{
 "cells": [
  {
   "cell_type": "markdown",
   "metadata": {},
   "source": [
    "## Assignment-2 Data Science\n",
    "\n",
    "### Deep Nimesh Shah - B00796368\n",
    "### Ravi Tulsi Zala - B00805073\n",
    "***"
   ]
  },
  {
   "cell_type": "markdown",
   "metadata": {},
   "source": [
    "### Libraries and Packages\n",
    "****\n",
    "#### Install NLTK platform and sklearn library\n",
    "* Import tokenize module from nltk for splliting the setences into words. Commonly used words such as 'a','an','the' etc are known as Stop words are removed using the corpus module of nltk. Stemming process uses the stem module from nltk. Expressing the multiple words that occur commonly can be done using collocation module of nltk.\n",
    "\n",
    "* Import the modules like feature extraction for converting corpus into bag of words and tfIdf representation. Text-classification using NaiveBayes and Support Vector Machine from sklearn modules. Confusion matrices are reported for test sets using the confusion matrix module of sklearn.\n",
    "\n",
    "* Before using nltk platform, download the required libraries using  below commands in jupyter\n",
    "    ```\n",
    "    import nltk\n",
    "    nltk.download()\n",
    "    \n",
    "    ```\n"
   ]
  },
  {
   "cell_type": "code",
   "execution_count": 123,
   "metadata": {},
   "outputs": [],
   "source": [
    "from sklearn.datasets import fetch_20newsgroups\n",
    "from pprint import pprint\n",
    "from nltk.tokenize import word_tokenize\n",
    "import nltk\n",
    "from nltk.probability import FreqDist\n",
    "from nltk.collocations import *\n",
    "from nltk.corpus import stopwords\n",
    "import re\n",
    "import pandas as pd\n",
    "from nltk.stem import PorterStemmer\n",
    "from sklearn.feature_extraction.text import CountVectorizer\n",
    "from sklearn.feature_extraction.text import TfidfTransformer\n",
    "from sklearn.model_selection import train_test_split\n",
    "import numpy as np\n",
    "from sklearn.naive_bayes import MultinomialNB\n",
    "from sklearn.linear_model import SGDClassifier\n",
    "from sklearn import svm\n",
    "from sklearn.metrics import confusion_matrix\n",
    "import matplotlib.pyplot as plot"
   ]
  },
  {
   "cell_type": "markdown",
   "metadata": {},
   "source": [
    "### Load Dataset \n",
    "\n",
    "* Fetch  the Data from only four news group such as alt.atheism, talk.religion.misc, comp.graphics, sci.space form the  20 newsgrup dataset"
   ]
  },
  {
   "cell_type": "code",
   "execution_count": 124,
   "metadata": {},
   "outputs": [
    {
     "name": "stdout",
     "output_type": "stream",
     "text": [
      "Number of Documents :  3387\n"
     ]
    }
   ],
   "source": [
    "# https://scikit-learn.org/0.19/datasets/twenty_newsgroups.html\n",
    "# https://stackoverflow.com/questions/5618878/how-to-convert-list-to-string\n",
    "\n",
    "categories_newsgroup = ['alt.atheism', 'talk.religion.misc', 'comp.graphics', 'sci.space']\n",
    "\n",
    "def loadData(categories_newsgroup):\n",
    "    \n",
    "    newsgroups_All = fetch_20newsgroups(categories=categories_newsgroup,subset='all')\n",
    "    print(\"Number of Documents : \" , newsgroups_All.filenames.shape[0])\n",
    "    text_data = ' '.join(newsgroups_All.data) \n",
    "    return text_data,newsgroups_All\n",
    "\n",
    "text_data, newsgroups_All =loadData(categories_newsgroup)"
   ]
  },
  {
   "cell_type": "markdown",
   "metadata": {},
   "source": [
    "### Q1 a)"
   ]
  },
  {
   "cell_type": "markdown",
   "metadata": {},
   "source": [
    "### Tokenized Data\n",
    "\n",
    "\n",
    "* We have tokenized the entire dataset in the list of words and display the 50 words to demonstrate from entire list of tokenized words."
   ]
  },
  {
   "cell_type": "code",
   "execution_count": 125,
   "metadata": {},
   "outputs": [
    {
     "name": "stdout",
     "output_type": "stream",
     "text": [
      "['From', ':', 'healta', '@', 'saturn.wwc.edu', '(', 'Tammy', 'R', 'Healy', ')', 'Subject', ':', 'Re', ':', 'who', 'are', 'we', 'to', 'judge', ',', 'Bobby', '?', 'Lines', ':', '38', 'Organization', ':', 'Walla', 'Walla', 'College', 'Lines', ':', '38', 'In', 'article', '<', '1993Apr14.213356.22176', '@', 'ultb.isc.rit.edu', '>', 'snm6394', '@', 'ultb.isc.rit.edu', '(', 'S.N', '.', 'Mozumder', ')', 'writes', ':']\n"
     ]
    }
   ],
   "source": [
    "# https://kite.com/python/docs/nltk.tokenize.word_tokenize\n",
    "tokenized_word=word_tokenize(text_data)\n",
    "print(tokenized_word[:50])"
   ]
  },
  {
   "cell_type": "markdown",
   "metadata": {},
   "source": [
    "### Part-Of-Speech (POS) tagging\n",
    "\n",
    "Part of speech includes noun, pronoun, verb, adverb, adjective, conjunction, preposition, and interjection. NLTK module pos_tag is useful for tagging the words according part of speech.\n",
    "\n",
    "Some of the tags for the grammar are : \n",
    "\n",
    "* VB verb, e.g. 'judge'\n",
    "* NN noun, e.g. 'Subject'\n",
    "* RB adverb, e.g 'very'\n",
    "* JJ adjective, e.g. 'small'\n",
    "* IN preposition, e.g. 'in'\n",
    "\n",
    "Results :\n",
    "* We have performed POS tagging for the tokenized words and display the 50 results"
   ]
  },
  {
   "cell_type": "code",
   "execution_count": 126,
   "metadata": {
    "scrolled": true
   },
   "outputs": [
    {
     "name": "stdout",
     "output_type": "stream",
     "text": [
      "[('From', 'IN'), (':', ':'), ('healta', 'NN'), ('@', 'NN'), ('saturn.wwc.edu', 'NN'), ('(', '('), ('Tammy', 'NNP'), ('R', 'NNP'), ('Healy', 'NNP'), (')', ')'), ('Subject', 'NN'), (':', ':'), ('Re', 'NN'), (':', ':'), ('who', 'WP'), ('are', 'VBP'), ('we', 'PRP'), ('to', 'TO'), ('judge', 'VB'), (',', ','), ('Bobby', 'NNP'), ('?', '.'), ('Lines', 'NNS'), (':', ':'), ('38', 'CD'), ('Organization', 'NN'), (':', ':'), ('Walla', 'NNP'), ('Walla', 'NNP'), ('College', 'NNP'), ('Lines', 'NNP'), (':', ':'), ('38', 'CD'), ('In', 'IN'), ('article', 'NN'), ('<', '$'), ('1993Apr14.213356.22176', 'CD'), ('@', 'NNP'), ('ultb.isc.rit.edu', 'JJ'), ('>', 'NNP'), ('snm6394', 'NN'), ('@', 'NNP'), ('ultb.isc.rit.edu', 'NN'), ('(', '('), ('S.N', 'NNP'), ('.', '.'), ('Mozumder', 'NNP'), (')', ')'), ('writes', 'VBZ'), (':', ':')]\n"
     ]
    }
   ],
   "source": [
    "# https://www.nltk.org/book/ch05.html\n",
    "# https://stackoverflow.com/questions/10897339/python-fetch-first-10-results-from-a-list\n",
    "pos_tag_words = nltk.pos_tag(tokenized_word)\n",
    "print(pos_tag_words[:50])"
   ]
  },
  {
   "cell_type": "markdown",
   "metadata": {},
   "source": [
    "### Data Cleaning\n",
    "Data cleaning is required before creating the bigrams otherwise bigrams result may consist special characters and unnecessary words which reduce the significance of creating the bigram.Only 200 results are displayed after cleaning the data.\n",
    "Following Operations are performed to clean the data.\n",
    "\n",
    "1. Remove the stop words ('are','is','everything' etc)\n",
    "2. Remove the word with a single character (e.g. 'c','a' etc)\n",
    "3. Remove special character and numbers ('@','.',')','(' etc)\n",
    "4. Remove all the null values "
   ]
  },
  {
   "cell_type": "code",
   "execution_count": 127,
   "metadata": {},
   "outputs": [
    {
     "name": "stdout",
     "output_type": "stream",
     "text": [
      "['From', 'healta', 'saturnwwcedu', 'Tammy', 'Healy', 'Subject', 'Re', 'judge', 'Bobby', 'Lines', 'Organization', 'Walla', 'Walla', 'College', 'Lines', 'In', 'article', 'Apr', 'ultbiscritedu', 'snm', 'ultbiscritedu', 'SN', 'Mozumder', 'writes', 'From', 'snm', 'ultbiscritedu', 'SN', 'Mozumder', 'Subject', 'Re', 'judge', 'Bobby', 'Date', 'Wed', 'Apr', 'GMT', 'In', 'article', 'healta', 'saturnwwcedu', 'healta', 'saturnwwcedu', 'TAMMY', 'HEALY', 'writes', 'Bobby', 'would', 'like', 'take', 'liberty', 'quote', 'Christian', 'writer', 'named', 'Ellen', 'White', 'hope', 'said', 'help', 'edit', 'remarks', 'group', 'future', 'Do', 'set', 'standard', 'Do', 'make', 'opinions', 'views', 'duty', 'interpretations', 'scripture', 'criterion', 'others', 'heart', 'condemn', 'come', 'ideal', 'Thoughts', 'Fromthe', 'Mount', 'Blessing', 'hope', 'quoting', 'nt', 'make', 'atheists', 'gag', 'think', 'Ellen', 'White', 'put', 'better', 'could', 'Tammy', 'Point', 'Peace', 'Bobby', 'Mozumder', 'My', 'point', 'set', 'views', 'way', 'believe', 'Saying', 'eveil', 'world', 'caused', 'atheism', 'ridiculous', 'counterproductive', 'dialogue', 'newsgroups', 'see', 'posts', 'spirit', 'condemnation', 'atheists', 'newsgroup', 'bacause', 'don', 'believe', 'exactly', 'If', 're', 'try', 'convert', 'atheists', 're', 'failing', 'miserably', 'Who', 'wants', 'position', 'constantly', 'defending', 'agaist', 'insulting', 'attacks', 'like', 'seem', 'like', 'sorry', 're', 'blind', 'nt', 'get', 'messgae', 'quote', 'everyone', 'else', 'seemed', 'Tammy', 'From', 'jk', 'lehtoricctutfi', 'Kouhia', 'Juhana', 'Subject', 'Re', 'More', 'gray', 'levels', 'screen', 'Organization', 'Tampere', 'University', 'Technology', 'Lines', 'Distribution', 'inet', 'NNTPPostingHost', 'cctutfi', 'In', 'article', 'Apr', 'cisuabedu', 'sloan', 'cisuabedu', 'Kenneth', 'Sloan', 'writes', 'Why', 'nt', 'create', 'greylevel', 'images', 'display', 'time', 'slices', 'By', 'grey', 'level', 'images', 'mean', 'items', 'bit']\n"
     ]
    }
   ],
   "source": [
    "# https://stackoverflow.com/questions/43761318/python-remove-empty-element-by-list\n",
    "# https://www.geeksforgeeks.org/removing-stop-words-nltk-python/\n",
    "# https://stackoverflow.com/questions/27199837/strip-all-non-alphabetic-characters-from-beginning-of-python-string-w-o-using-re\n",
    "# https://www.geeksforgeeks.org/python-program-check-string-contains-special-character/\n",
    "\n",
    "stop_words=set(stopwords.words(\"english\"))\n",
    "\n",
    "def cleaningForBigrams(stop_words):\n",
    "    \n",
    "    filtered_sent=[]\n",
    "    Remove_null = [] \n",
    "    basic_clean = []\n",
    "    Remove_non_alphabetic = []\n",
    "    \n",
    "    pattern = re.compile('[@_!#$%^&*()<>?/\\|}{~:]')\n",
    "    \n",
    "    tokenized_sent = tokenized_word\n",
    "    for w in tokenized_sent:\n",
    "        if w not in stop_words:\n",
    "            filtered_sent.append(w)\n",
    "\n",
    "    for w in filtered_sent:\n",
    "        if ((len(re.sub(r'[^A-Za-z]', '', w)) == 1) or (len(w) == 1) or ( pattern.search(w) != None )):\n",
    "            continue\n",
    "        else:\n",
    "            Remove_non_alphabetic.append(re.sub(r'[^A-Za-z]', '', w))\n",
    "\n",
    "    null_removed = [x for x in Remove_non_alphabetic if x]\n",
    "    basic_clean_list = null_removed\n",
    "    \n",
    "    return basic_clean_list\n",
    "\n",
    "basic_clean_list = cleaningForBigrams(stop_words)\n",
    "print(basic_clean_list[:200])"
   ]
  },
  {
   "cell_type": "markdown",
   "metadata": {},
   "source": [
    "### Q1 b)"
   ]
  },
  {
   "cell_type": "markdown",
   "metadata": {},
   "source": [
    "### Collocation \n",
    "It is considered as a phrase which consists of multiple words that are co-occur in the text.\n",
    "For ex. In the set of education related document word 'Machine learning' co-occur together rather than individual word 'Machine' and 'Learning'.\n",
    "\n",
    "### Bigrams\n",
    "Bigram is concatenation of two words which is considered as an individual words which helps to improve insight analysis of the text document while solving NLP related problems.\n",
    "\n",
    "We have used below four techniques to filter out meaningful collocations from the document.\n",
    "1. Frequency Counting\n",
    "2. Pointwise Mutual Information (PMI)\n",
    "3. T-test \n",
    "4. Chi-square\n"
   ]
  },
  {
   "cell_type": "markdown",
   "metadata": {},
   "source": [
    "### Frequency without filter\n",
    "\n",
    "To count the frequency for the bigrams ngram_fd.items() from the class BigramCollocationFinder is used. This method will return bigram_freq which is a doctionary.It is casted to a list and sorted using the frequency. Below function does not filter out the collocations."
   ]
  },
  {
   "cell_type": "code",
   "execution_count": 128,
   "metadata": {},
   "outputs": [
    {
     "name": "stdout",
     "output_type": "stream",
     "text": [
      "Frequency Without Filter : \n",
      " \n",
      "\n"
     ]
    },
    {
     "data": {
      "text/html": [
       "<div>\n",
       "<style scoped>\n",
       "    .dataframe tbody tr th:only-of-type {\n",
       "        vertical-align: middle;\n",
       "    }\n",
       "\n",
       "    .dataframe tbody tr th {\n",
       "        vertical-align: top;\n",
       "    }\n",
       "\n",
       "    .dataframe thead th {\n",
       "        text-align: right;\n",
       "    }\n",
       "</style>\n",
       "<table border=\"1\" class=\"dataframe\">\n",
       "  <thead>\n",
       "    <tr style=\"text-align: right;\">\n",
       "      <th></th>\n",
       "      <th>bigram</th>\n",
       "      <th>freq</th>\n",
       "    </tr>\n",
       "  </thead>\n",
       "  <tbody>\n",
       "    <tr>\n",
       "      <th>5</th>\n",
       "      <td>(Subject, Re)</td>\n",
       "      <td>2434</td>\n",
       "    </tr>\n",
       "    <tr>\n",
       "      <th>15</th>\n",
       "      <td>(In, article)</td>\n",
       "      <td>1954</td>\n",
       "    </tr>\n",
       "    <tr>\n",
       "      <th>14</th>\n",
       "      <td>(Lines, In)</td>\n",
       "      <td>1015</td>\n",
       "    </tr>\n",
       "    <tr>\n",
       "      <th>16</th>\n",
       "      <td>(article, Apr)</td>\n",
       "      <td>570</td>\n",
       "    </tr>\n",
       "    <tr>\n",
       "      <th>1307</th>\n",
       "      <td>(writes, In)</td>\n",
       "      <td>554</td>\n",
       "    </tr>\n",
       "    <tr>\n",
       "      <th>3217</th>\n",
       "      <td>(ca, nt)</td>\n",
       "      <td>505</td>\n",
       "    </tr>\n",
       "    <tr>\n",
       "      <th>1298</th>\n",
       "      <td>(Organization, University)</td>\n",
       "      <td>495</td>\n",
       "    </tr>\n",
       "    <tr>\n",
       "      <th>2053</th>\n",
       "      <td>(Lines, NNTPPostingHost)</td>\n",
       "      <td>471</td>\n",
       "    </tr>\n",
       "    <tr>\n",
       "      <th>243</th>\n",
       "      <td>(Distribution, world)</td>\n",
       "      <td>368</td>\n",
       "    </tr>\n",
       "    <tr>\n",
       "      <th>160</th>\n",
       "      <td>(Lines, Distribution)</td>\n",
       "      <td>316</td>\n",
       "    </tr>\n",
       "    <tr>\n",
       "      <th>1472</th>\n",
       "      <td>(nt, know)</td>\n",
       "      <td>288</td>\n",
       "    </tr>\n",
       "    <tr>\n",
       "      <th>1526</th>\n",
       "      <td>(world, NNTPPostingHost)</td>\n",
       "      <td>216</td>\n",
       "    </tr>\n",
       "    <tr>\n",
       "      <th>2429</th>\n",
       "      <td>(sandvik, newtonapplecom)</td>\n",
       "      <td>211</td>\n",
       "    </tr>\n",
       "    <tr>\n",
       "      <th>3502</th>\n",
       "      <td>(nt, think)</td>\n",
       "      <td>211</td>\n",
       "    </tr>\n",
       "    <tr>\n",
       "      <th>2907</th>\n",
       "      <td>(Of, course)</td>\n",
       "      <td>204</td>\n",
       "    </tr>\n",
       "    <tr>\n",
       "      <th>2207</th>\n",
       "      <td>(Henry, Spencer)</td>\n",
       "      <td>179</td>\n",
       "    </tr>\n",
       "    <tr>\n",
       "      <th>38</th>\n",
       "      <td>(would, like)</td>\n",
       "      <td>178</td>\n",
       "    </tr>\n",
       "    <tr>\n",
       "      <th>1168</th>\n",
       "      <td>(Computer, Science)</td>\n",
       "      <td>175</td>\n",
       "    </tr>\n",
       "    <tr>\n",
       "      <th>4658</th>\n",
       "      <td>(XNewsreader, TIN)</td>\n",
       "      <td>164</td>\n",
       "    </tr>\n",
       "    <tr>\n",
       "      <th>4659</th>\n",
       "      <td>(TIN, version)</td>\n",
       "      <td>164</td>\n",
       "    </tr>\n",
       "  </tbody>\n",
       "</table>\n",
       "</div>"
      ],
      "text/plain": [
       "                          bigram  freq\n",
       "5                  (Subject, Re)  2434\n",
       "15                 (In, article)  1954\n",
       "14                   (Lines, In)  1015\n",
       "16                (article, Apr)   570\n",
       "1307                (writes, In)   554\n",
       "3217                    (ca, nt)   505\n",
       "1298  (Organization, University)   495\n",
       "2053    (Lines, NNTPPostingHost)   471\n",
       "243        (Distribution, world)   368\n",
       "160        (Lines, Distribution)   316\n",
       "1472                  (nt, know)   288\n",
       "1526    (world, NNTPPostingHost)   216\n",
       "2429   (sandvik, newtonapplecom)   211\n",
       "3502                 (nt, think)   211\n",
       "2907                (Of, course)   204\n",
       "2207            (Henry, Spencer)   179\n",
       "38                 (would, like)   178\n",
       "1168         (Computer, Science)   175\n",
       "4658          (XNewsreader, TIN)   164\n",
       "4659              (TIN, version)   164"
      ]
     },
     "execution_count": 128,
     "metadata": {},
     "output_type": "execute_result"
    }
   ],
   "source": [
    "def freqBigramsBeforeFiltering(basic_clean_list):\n",
    "    \n",
    "    bigrams = nltk.collocations.BigramAssocMeasures()\n",
    "    bigramFinder = nltk.collocations.BigramCollocationFinder.from_words(basic_clean_list)\n",
    "    bigram_freq = bigramFinder.ngram_fd.items()\n",
    "    bigramFreqTable = pd.DataFrame(list(bigram_freq), columns=['bigram','freq']).sort_values(by='freq', ascending=False)\n",
    "    return bigrams,bigramFinder,bigramFreqTable\n",
    "    \n",
    "bigrams,bigramFinder,bigramFreqTable = freqBigramsBeforeFiltering(basic_clean_list)  \n",
    "print(\"Frequency Without Filter : \\n \\n\")\n",
    "bigramFreqTable.head(20)"
   ]
  },
  {
   "cell_type": "markdown",
   "metadata": {},
   "source": [
    "### Pointwise Mutual Information (PMI)\n",
    "\n",
    "PMI is a measure for how a one word is associated to other word in n-grams.\n",
    "\n",
    "A pmi(x,y) = 0 means that the words  x and y are  independent, positive PMI means x and y co-occur more frequently than,and negative PMI means they cooccur less frequently. PMI is calculated as shown in the below formula :\n",
    "\n",
    "\n",
    "#### Note :-\n",
    "\n",
    "PMI is generally used after filtering out the collocations as it is more sensitive to independent words which co-occur rarely. In the below function PMI is used on unfiltered collocations."
   ]
  },
  {
   "cell_type": "code",
   "execution_count": 129,
   "metadata": {},
   "outputs": [
    {
     "name": "stdout",
     "output_type": "stream",
     "text": [
      "Pointwise Mutual Information (PMI) : \n",
      " \n",
      "\n"
     ]
    },
    {
     "data": {
      "text/html": [
       "<div>\n",
       "<style scoped>\n",
       "    .dataframe tbody tr th:only-of-type {\n",
       "        vertical-align: middle;\n",
       "    }\n",
       "\n",
       "    .dataframe tbody tr th {\n",
       "        vertical-align: top;\n",
       "    }\n",
       "\n",
       "    .dataframe thead th {\n",
       "        text-align: right;\n",
       "    }\n",
       "</style>\n",
       "<table border=\"1\" class=\"dataframe\">\n",
       "  <thead>\n",
       "    <tr style=\"text-align: right;\">\n",
       "      <th></th>\n",
       "      <th>bigram_pmi</th>\n",
       "      <th>PMI</th>\n",
       "    </tr>\n",
       "  </thead>\n",
       "  <tbody>\n",
       "    <tr>\n",
       "      <th>0</th>\n",
       "      <td>(AAO, AngloAustralian)</td>\n",
       "      <td>19.217605</td>\n",
       "    </tr>\n",
       "    <tr>\n",
       "      <th>1804</th>\n",
       "      <td>(expound, Ambrose)</td>\n",
       "      <td>19.217605</td>\n",
       "    </tr>\n",
       "    <tr>\n",
       "      <th>1796</th>\n",
       "      <td>(evolutionaire, eindprodukten)</td>\n",
       "      <td>19.217605</td>\n",
       "    </tr>\n",
       "    <tr>\n",
       "      <th>1797</th>\n",
       "      <td>(evolutions, hitherto)</td>\n",
       "      <td>19.217605</td>\n",
       "    </tr>\n",
       "    <tr>\n",
       "      <th>1798</th>\n",
       "      <td>(exasperating, Sexism)</td>\n",
       "      <td>19.217605</td>\n",
       "    </tr>\n",
       "    <tr>\n",
       "      <th>1799</th>\n",
       "      <td>(excepting, Pfaith)</td>\n",
       "      <td>19.217605</td>\n",
       "    </tr>\n",
       "    <tr>\n",
       "      <th>1800</th>\n",
       "      <td>(excessively, darken)</td>\n",
       "      <td>19.217605</td>\n",
       "    </tr>\n",
       "    <tr>\n",
       "      <th>1801</th>\n",
       "      <td>(exiled, Assyrian)</td>\n",
       "      <td>19.217605</td>\n",
       "    </tr>\n",
       "    <tr>\n",
       "      <th>1802</th>\n",
       "      <td>(experi, ences)</td>\n",
       "      <td>19.217605</td>\n",
       "    </tr>\n",
       "    <tr>\n",
       "      <th>1803</th>\n",
       "      <td>(expired, gunpowder)</td>\n",
       "      <td>19.217605</td>\n",
       "    </tr>\n",
       "    <tr>\n",
       "      <th>1805</th>\n",
       "      <td>(exter, nally)</td>\n",
       "      <td>19.217605</td>\n",
       "    </tr>\n",
       "    <tr>\n",
       "      <th>1857</th>\n",
       "      <td>(gf, msuinfoclmsuedu)</td>\n",
       "      <td>19.217605</td>\n",
       "    </tr>\n",
       "    <tr>\n",
       "      <th>1806</th>\n",
       "      <td>(extravagant, REFUSAL)</td>\n",
       "      <td>19.217605</td>\n",
       "    </tr>\n",
       "    <tr>\n",
       "      <th>1807</th>\n",
       "      <td>(ezzie, lucslancsacuk)</td>\n",
       "      <td>19.217605</td>\n",
       "    </tr>\n",
       "    <tr>\n",
       "      <th>1808</th>\n",
       "      <td>(fa, thers)</td>\n",
       "      <td>19.217605</td>\n",
       "    </tr>\n",
       "    <tr>\n",
       "      <th>1809</th>\n",
       "      <td>(fabulous, feather)</td>\n",
       "      <td>19.217605</td>\n",
       "    </tr>\n",
       "    <tr>\n",
       "      <th>1810</th>\n",
       "      <td>(facinated, pnumatic)</td>\n",
       "      <td>19.217605</td>\n",
       "    </tr>\n",
       "    <tr>\n",
       "      <th>1811</th>\n",
       "      <td>(factorymade, ammonium)</td>\n",
       "      <td>19.217605</td>\n",
       "    </tr>\n",
       "    <tr>\n",
       "      <th>1812</th>\n",
       "      <td>(farewell, Berryman)</td>\n",
       "      <td>19.217605</td>\n",
       "    </tr>\n",
       "    <tr>\n",
       "      <th>1813</th>\n",
       "      <td>(fatherly, admonitions)</td>\n",
       "      <td>19.217605</td>\n",
       "    </tr>\n",
       "  </tbody>\n",
       "</table>\n",
       "</div>"
      ],
      "text/plain": [
       "                          bigram_pmi        PMI\n",
       "0             (AAO, AngloAustralian)  19.217605\n",
       "1804              (expound, Ambrose)  19.217605\n",
       "1796  (evolutionaire, eindprodukten)  19.217605\n",
       "1797          (evolutions, hitherto)  19.217605\n",
       "1798          (exasperating, Sexism)  19.217605\n",
       "1799             (excepting, Pfaith)  19.217605\n",
       "1800           (excessively, darken)  19.217605\n",
       "1801              (exiled, Assyrian)  19.217605\n",
       "1802                 (experi, ences)  19.217605\n",
       "1803            (expired, gunpowder)  19.217605\n",
       "1805                  (exter, nally)  19.217605\n",
       "1857           (gf, msuinfoclmsuedu)  19.217605\n",
       "1806          (extravagant, REFUSAL)  19.217605\n",
       "1807          (ezzie, lucslancsacuk)  19.217605\n",
       "1808                     (fa, thers)  19.217605\n",
       "1809             (fabulous, feather)  19.217605\n",
       "1810           (facinated, pnumatic)  19.217605\n",
       "1811         (factorymade, ammonium)  19.217605\n",
       "1812            (farewell, Berryman)  19.217605\n",
       "1813         (fatherly, admonitions)  19.217605"
      ]
     },
     "execution_count": 129,
     "metadata": {},
     "output_type": "execute_result"
    }
   ],
   "source": [
    "def getPMI(bigramFinder,bigrams):\n",
    "    \n",
    "    bigramPMITable_PMI = pd.DataFrame(list(bigramFinder.score_ngrams(bigrams.pmi)), columns=['bigram_pmi','PMI']).sort_values(by='PMI', ascending=False)\n",
    "    return bigramPMITable_PMI\n",
    "    \n",
    "bigramPMITable_PMI = getPMI(bigramFinder,bigrams)\n",
    "print(\"Pointwise Mutual Information (PMI) : \\n \\n\")\n",
    "bigramPMITable_PMI.head(20)"
   ]
  },
  {
   "cell_type": "markdown",
   "metadata": {},
   "source": [
    "### Chi Square\n",
    "Chi Square test is useful for testing or rejecting null hypothesis. Chi square test works well with the categorical data. It gives the information based on how data is divided among categories but it can not suggest the meaningfulness. Null hypothesis means there is no relationship between two variables are zero or independent variables. Function below will show top 20 results of the dataframe."
   ]
  },
  {
   "cell_type": "code",
   "execution_count": 130,
   "metadata": {},
   "outputs": [
    {
     "name": "stdout",
     "output_type": "stream",
     "text": [
      "Chi Square (Hypothesis Testing) : \n",
      " \n",
      "\n"
     ]
    },
    {
     "data": {
      "text/html": [
       "<div>\n",
       "<style scoped>\n",
       "    .dataframe tbody tr th:only-of-type {\n",
       "        vertical-align: middle;\n",
       "    }\n",
       "\n",
       "    .dataframe tbody tr th {\n",
       "        vertical-align: top;\n",
       "    }\n",
       "\n",
       "    .dataframe thead th {\n",
       "        text-align: right;\n",
       "    }\n",
       "</style>\n",
       "<table border=\"1\" class=\"dataframe\">\n",
       "  <thead>\n",
       "    <tr style=\"text-align: right;\">\n",
       "      <th></th>\n",
       "      <th>bigram_chi</th>\n",
       "      <th>chi_sq</th>\n",
       "    </tr>\n",
       "  </thead>\n",
       "  <tbody>\n",
       "    <tr>\n",
       "      <th>0</th>\n",
       "      <td>(AAAA, BBBB)</td>\n",
       "      <td>609643.0</td>\n",
       "    </tr>\n",
       "    <tr>\n",
       "      <th>2631</th>\n",
       "      <td>(finn, bscno)</td>\n",
       "      <td>609643.0</td>\n",
       "    </tr>\n",
       "    <tr>\n",
       "      <th>2633</th>\n",
       "      <td>(firstcome, firstserved)</td>\n",
       "      <td>609643.0</td>\n",
       "    </tr>\n",
       "    <tr>\n",
       "      <th>2634</th>\n",
       "      <td>(firstest, mostest)</td>\n",
       "      <td>609643.0</td>\n",
       "    </tr>\n",
       "    <tr>\n",
       "      <th>2635</th>\n",
       "      <td>(fischer, iesdaucdk)</td>\n",
       "      <td>609643.0</td>\n",
       "    </tr>\n",
       "    <tr>\n",
       "      <th>2636</th>\n",
       "      <td>(fitz, cseogiedu)</td>\n",
       "      <td>609643.0</td>\n",
       "    </tr>\n",
       "    <tr>\n",
       "      <th>2637</th>\n",
       "      <td>(flagellating, genuflecting)</td>\n",
       "      <td>609643.0</td>\n",
       "    </tr>\n",
       "    <tr>\n",
       "      <th>2638</th>\n",
       "      <td>(flamboyant, orgies)</td>\n",
       "      <td>609643.0</td>\n",
       "    </tr>\n",
       "    <tr>\n",
       "      <th>2639</th>\n",
       "      <td>(flatten, steamroller)</td>\n",
       "      <td>609643.0</td>\n",
       "    </tr>\n",
       "    <tr>\n",
       "      <th>2640</th>\n",
       "      <td>(flb, flboptiplanfi)</td>\n",
       "      <td>609643.0</td>\n",
       "    </tr>\n",
       "    <tr>\n",
       "      <th>2641</th>\n",
       "      <td>(flees, resists)</td>\n",
       "      <td>609643.0</td>\n",
       "    </tr>\n",
       "    <tr>\n",
       "      <th>2642</th>\n",
       "      <td>(flibble, glop)</td>\n",
       "      <td>609643.0</td>\n",
       "    </tr>\n",
       "    <tr>\n",
       "      <th>2643</th>\n",
       "      <td>(flighttested, cesium)</td>\n",
       "      <td>609643.0</td>\n",
       "    </tr>\n",
       "    <tr>\n",
       "      <th>2644</th>\n",
       "      <td>(flirting, therapist)</td>\n",
       "      <td>609643.0</td>\n",
       "    </tr>\n",
       "    <tr>\n",
       "      <th>2645</th>\n",
       "      <td>(flowery, brownnosers)</td>\n",
       "      <td>609643.0</td>\n",
       "    </tr>\n",
       "    <tr>\n",
       "      <th>2646</th>\n",
       "      <td>(fluent, dartmouthEDU)</td>\n",
       "      <td>609643.0</td>\n",
       "    </tr>\n",
       "    <tr>\n",
       "      <th>2647</th>\n",
       "      <td>(fluidmechanically, compressible)</td>\n",
       "      <td>609643.0</td>\n",
       "    </tr>\n",
       "    <tr>\n",
       "      <th>2648</th>\n",
       "      <td>(fluxes, Theorists)</td>\n",
       "      <td>609643.0</td>\n",
       "    </tr>\n",
       "    <tr>\n",
       "      <th>2649</th>\n",
       "      <td>(flythrough, fractalgenerated)</td>\n",
       "      <td>609643.0</td>\n",
       "    </tr>\n",
       "    <tr>\n",
       "      <th>2650</th>\n",
       "      <td>(fnord, Episkopos)</td>\n",
       "      <td>609643.0</td>\n",
       "    </tr>\n",
       "  </tbody>\n",
       "</table>\n",
       "</div>"
      ],
      "text/plain": [
       "                             bigram_chi    chi_sq\n",
       "0                          (AAAA, BBBB)  609643.0\n",
       "2631                      (finn, bscno)  609643.0\n",
       "2633           (firstcome, firstserved)  609643.0\n",
       "2634                (firstest, mostest)  609643.0\n",
       "2635               (fischer, iesdaucdk)  609643.0\n",
       "2636                  (fitz, cseogiedu)  609643.0\n",
       "2637       (flagellating, genuflecting)  609643.0\n",
       "2638               (flamboyant, orgies)  609643.0\n",
       "2639             (flatten, steamroller)  609643.0\n",
       "2640               (flb, flboptiplanfi)  609643.0\n",
       "2641                   (flees, resists)  609643.0\n",
       "2642                    (flibble, glop)  609643.0\n",
       "2643             (flighttested, cesium)  609643.0\n",
       "2644              (flirting, therapist)  609643.0\n",
       "2645             (flowery, brownnosers)  609643.0\n",
       "2646             (fluent, dartmouthEDU)  609643.0\n",
       "2647  (fluidmechanically, compressible)  609643.0\n",
       "2648                (fluxes, Theorists)  609643.0\n",
       "2649     (flythrough, fractalgenerated)  609643.0\n",
       "2650                 (fnord, Episkopos)  609643.0"
      ]
     },
     "execution_count": 130,
     "metadata": {},
     "output_type": "execute_result"
    }
   ],
   "source": [
    "def getChiSq(bigramFinder,bigrams):\n",
    "\n",
    "    bigramTtable_chisq = pd.DataFrame(list(bigramFinder.score_ngrams(bigrams.chi_sq)), columns=['bigram_chi','chi_sq']).sort_values(by='chi_sq', ascending=False)\n",
    "    return bigramTtable_chisq\n",
    "\n",
    "bigramTtable_chisq = getChiSq(bigramFinder,bigrams)\n",
    "print(\"Chi Square (Hypothesis Testing) : \\n \\n\")\n",
    "bigramTtable_chisq.head(20)"
   ]
  },
  {
   "cell_type": "markdown",
   "metadata": {},
   "source": [
    "### T-test without filter\n",
    "\n",
    "It is useful to check whethere two categories are statistically different from each other.Rejecting null hypothesis means there is not a different between the means of the variables. Difference between those variables is meaningful. It will show top 20 results of the dataframe."
   ]
  },
  {
   "cell_type": "code",
   "execution_count": 131,
   "metadata": {},
   "outputs": [
    {
     "name": "stdout",
     "output_type": "stream",
     "text": [
      "Ttest Without Filter (Hypothesis Testing) : \n",
      " \n",
      "\n"
     ]
    },
    {
     "data": {
      "text/html": [
       "<div>\n",
       "<style scoped>\n",
       "    .dataframe tbody tr th:only-of-type {\n",
       "        vertical-align: middle;\n",
       "    }\n",
       "\n",
       "    .dataframe tbody tr th {\n",
       "        vertical-align: top;\n",
       "    }\n",
       "\n",
       "    .dataframe thead th {\n",
       "        text-align: right;\n",
       "    }\n",
       "</style>\n",
       "<table border=\"1\" class=\"dataframe\">\n",
       "  <thead>\n",
       "    <tr style=\"text-align: right;\">\n",
       "      <th></th>\n",
       "      <th>bigram_ttest</th>\n",
       "      <th>t</th>\n",
       "    </tr>\n",
       "  </thead>\n",
       "  <tbody>\n",
       "    <tr>\n",
       "      <th>0</th>\n",
       "      <td>(Subject, Re)</td>\n",
       "      <td>49.026437</td>\n",
       "    </tr>\n",
       "    <tr>\n",
       "      <th>1</th>\n",
       "      <td>(In, article)</td>\n",
       "      <td>43.941015</td>\n",
       "    </tr>\n",
       "    <tr>\n",
       "      <th>2</th>\n",
       "      <td>(Lines, In)</td>\n",
       "      <td>31.301873</td>\n",
       "    </tr>\n",
       "    <tr>\n",
       "      <th>3</th>\n",
       "      <td>(article, Apr)</td>\n",
       "      <td>23.720673</td>\n",
       "    </tr>\n",
       "    <tr>\n",
       "      <th>4</th>\n",
       "      <td>(writes, In)</td>\n",
       "      <td>22.935838</td>\n",
       "    </tr>\n",
       "    <tr>\n",
       "      <th>5</th>\n",
       "      <td>(ca, nt)</td>\n",
       "      <td>22.298068</td>\n",
       "    </tr>\n",
       "    <tr>\n",
       "      <th>6</th>\n",
       "      <td>(Organization, University)</td>\n",
       "      <td>21.862747</td>\n",
       "    </tr>\n",
       "    <tr>\n",
       "      <th>7</th>\n",
       "      <td>(Lines, NNTPPostingHost)</td>\n",
       "      <td>21.471784</td>\n",
       "    </tr>\n",
       "    <tr>\n",
       "      <th>8</th>\n",
       "      <td>(Distribution, world)</td>\n",
       "      <td>19.134433</td>\n",
       "    </tr>\n",
       "    <tr>\n",
       "      <th>9</th>\n",
       "      <td>(Lines, Distribution)</td>\n",
       "      <td>17.570933</td>\n",
       "    </tr>\n",
       "    <tr>\n",
       "      <th>10</th>\n",
       "      <td>(nt, know)</td>\n",
       "      <td>16.240285</td>\n",
       "    </tr>\n",
       "    <tr>\n",
       "      <th>11</th>\n",
       "      <td>(world, NNTPPostingHost)</td>\n",
       "      <td>14.609433</td>\n",
       "    </tr>\n",
       "    <tr>\n",
       "      <th>12</th>\n",
       "      <td>(sandvik, newtonapplecom)</td>\n",
       "      <td>14.519644</td>\n",
       "    </tr>\n",
       "    <tr>\n",
       "      <th>13</th>\n",
       "      <td>(Of, course)</td>\n",
       "      <td>14.269629</td>\n",
       "    </tr>\n",
       "    <tr>\n",
       "      <th>14</th>\n",
       "      <td>(nt, think)</td>\n",
       "      <td>13.731932</td>\n",
       "    </tr>\n",
       "    <tr>\n",
       "      <th>15</th>\n",
       "      <td>(Henry, Spencer)</td>\n",
       "      <td>13.374119</td>\n",
       "    </tr>\n",
       "    <tr>\n",
       "      <th>16</th>\n",
       "      <td>(Computer, Science)</td>\n",
       "      <td>13.203624</td>\n",
       "    </tr>\n",
       "    <tr>\n",
       "      <th>17</th>\n",
       "      <td>(XNewsreader, TIN)</td>\n",
       "      <td>12.801140</td>\n",
       "    </tr>\n",
       "    <tr>\n",
       "      <th>18</th>\n",
       "      <td>(TIN, version)</td>\n",
       "      <td>12.792806</td>\n",
       "    </tr>\n",
       "    <tr>\n",
       "      <th>19</th>\n",
       "      <td>(version, PL)</td>\n",
       "      <td>12.789863</td>\n",
       "    </tr>\n",
       "  </tbody>\n",
       "</table>\n",
       "</div>"
      ],
      "text/plain": [
       "                  bigram_ttest          t\n",
       "0                (Subject, Re)  49.026437\n",
       "1                (In, article)  43.941015\n",
       "2                  (Lines, In)  31.301873\n",
       "3               (article, Apr)  23.720673\n",
       "4                 (writes, In)  22.935838\n",
       "5                     (ca, nt)  22.298068\n",
       "6   (Organization, University)  21.862747\n",
       "7     (Lines, NNTPPostingHost)  21.471784\n",
       "8        (Distribution, world)  19.134433\n",
       "9        (Lines, Distribution)  17.570933\n",
       "10                  (nt, know)  16.240285\n",
       "11    (world, NNTPPostingHost)  14.609433\n",
       "12   (sandvik, newtonapplecom)  14.519644\n",
       "13                (Of, course)  14.269629\n",
       "14                 (nt, think)  13.731932\n",
       "15            (Henry, Spencer)  13.374119\n",
       "16         (Computer, Science)  13.203624\n",
       "17          (XNewsreader, TIN)  12.801140\n",
       "18              (TIN, version)  12.792806\n",
       "19               (version, PL)  12.789863"
      ]
     },
     "execution_count": 131,
     "metadata": {},
     "output_type": "execute_result"
    }
   ],
   "source": [
    "def getTtestWithoutFilter(bigramFinder,bigrams):\n",
    "    \n",
    "    bigramTable_ttest = pd.DataFrame(list(bigramFinder.score_ngrams(bigrams.student_t)), columns=['bigram_ttest','t']).sort_values(by='t', ascending=False)\n",
    "    return bigramTable_ttest\n",
    "    \n",
    "bigramTable_ttest = getTtestWithoutFilter(bigramFinder,bigrams)\n",
    "print(\"Ttest Without Filter (Hypothesis Testing) : \\n \\n\")\n",
    "bigramTable_ttest.head(20)"
   ]
  },
  {
   "cell_type": "markdown",
   "metadata": {},
   "source": [
    "### Note:- \n",
    "From the above result of Frequency bigram and T-test method, it is observed that results consists of prepopositions, articles which does not give the meaningful result.\n",
    "To avoid this issue, we have filtered the bigram with (noun,noun) and (adjective,noun)\n"
   ]
  },
  {
   "cell_type": "markdown",
   "metadata": {},
   "source": [
    "### Function to Filter Bigrams\n",
    "\n",
    "Filtering the tags according to the Adjectives and noun types as shown in the below function. "
   ]
  },
  {
   "cell_type": "code",
   "execution_count": 132,
   "metadata": {},
   "outputs": [],
   "source": [
    "#function to filter for ADJ/NN bigrams\n",
    "type_1 = ('JJ', 'JJR', 'JJS', 'NN', 'NNS', 'NNP', 'NNPS')\n",
    "type_2 = ('NN', 'NNS', 'NNP', 'NNPS')\n",
    "\n",
    "def filterBigramsUsingTypes(bigram,type_1,type_2):\n",
    "    \n",
    "    tags = nltk.pos_tag(bigram)\n",
    "    if tags[0][1] in type_1 and tags[1][1] in type_2:\n",
    "        return True\n",
    "    else:\n",
    "        return False\n",
    "    "
   ]
  },
  {
   "cell_type": "markdown",
   "metadata": {},
   "source": [
    "### Frequency With Filter\n",
    "\n",
    "In the below function, each bigram from bigramFreqTable is checked against the tags mentioned in the above function. It will show top 20 results of the dataframe."
   ]
  },
  {
   "cell_type": "code",
   "execution_count": 133,
   "metadata": {},
   "outputs": [
    {
     "name": "stdout",
     "output_type": "stream",
     "text": [
      "Frequency With Filter : \n",
      " \n",
      "\n"
     ]
    },
    {
     "data": {
      "text/html": [
       "<div>\n",
       "<style scoped>\n",
       "    .dataframe tbody tr th:only-of-type {\n",
       "        vertical-align: middle;\n",
       "    }\n",
       "\n",
       "    .dataframe tbody tr th {\n",
       "        vertical-align: top;\n",
       "    }\n",
       "\n",
       "    .dataframe thead th {\n",
       "        text-align: right;\n",
       "    }\n",
       "</style>\n",
       "<table border=\"1\" class=\"dataframe\">\n",
       "  <thead>\n",
       "    <tr style=\"text-align: right;\">\n",
       "      <th></th>\n",
       "      <th>bigram</th>\n",
       "      <th>freq</th>\n",
       "    </tr>\n",
       "  </thead>\n",
       "  <tbody>\n",
       "    <tr>\n",
       "      <th>5</th>\n",
       "      <td>(Subject, Re)</td>\n",
       "      <td>2434</td>\n",
       "    </tr>\n",
       "    <tr>\n",
       "      <th>16</th>\n",
       "      <td>(article, Apr)</td>\n",
       "      <td>570</td>\n",
       "    </tr>\n",
       "    <tr>\n",
       "      <th>1298</th>\n",
       "      <td>(Organization, University)</td>\n",
       "      <td>495</td>\n",
       "    </tr>\n",
       "    <tr>\n",
       "      <th>2053</th>\n",
       "      <td>(Lines, NNTPPostingHost)</td>\n",
       "      <td>471</td>\n",
       "    </tr>\n",
       "    <tr>\n",
       "      <th>243</th>\n",
       "      <td>(Distribution, world)</td>\n",
       "      <td>368</td>\n",
       "    </tr>\n",
       "    <tr>\n",
       "      <th>160</th>\n",
       "      <td>(Lines, Distribution)</td>\n",
       "      <td>316</td>\n",
       "    </tr>\n",
       "    <tr>\n",
       "      <th>1526</th>\n",
       "      <td>(world, NNTPPostingHost)</td>\n",
       "      <td>216</td>\n",
       "    </tr>\n",
       "    <tr>\n",
       "      <th>2429</th>\n",
       "      <td>(sandvik, newtonapplecom)</td>\n",
       "      <td>211</td>\n",
       "    </tr>\n",
       "    <tr>\n",
       "      <th>2207</th>\n",
       "      <td>(Henry, Spencer)</td>\n",
       "      <td>179</td>\n",
       "    </tr>\n",
       "    <tr>\n",
       "      <th>1168</th>\n",
       "      <td>(Computer, Science)</td>\n",
       "      <td>175</td>\n",
       "    </tr>\n",
       "    <tr>\n",
       "      <th>4658</th>\n",
       "      <td>(XNewsreader, TIN)</td>\n",
       "      <td>164</td>\n",
       "    </tr>\n",
       "    <tr>\n",
       "      <th>4659</th>\n",
       "      <td>(TIN, version)</td>\n",
       "      <td>164</td>\n",
       "    </tr>\n",
       "    <tr>\n",
       "      <th>4660</th>\n",
       "      <td>(version, PL)</td>\n",
       "      <td>164</td>\n",
       "    </tr>\n",
       "    <tr>\n",
       "      <th>2205</th>\n",
       "      <td>(henry, zootorontoedu)</td>\n",
       "      <td>162</td>\n",
       "    </tr>\n",
       "    <tr>\n",
       "      <th>2581</th>\n",
       "      <td>(Jon, Livesey)</td>\n",
       "      <td>158</td>\n",
       "    </tr>\n",
       "    <tr>\n",
       "      <th>2052</th>\n",
       "      <td>(University, Lines)</td>\n",
       "      <td>153</td>\n",
       "    </tr>\n",
       "    <tr>\n",
       "      <th>2579</th>\n",
       "      <td>(livesey, solntzewpdsgicom)</td>\n",
       "      <td>153</td>\n",
       "    </tr>\n",
       "    <tr>\n",
       "      <th>2580</th>\n",
       "      <td>(solntzewpdsgicom, Jon)</td>\n",
       "      <td>150</td>\n",
       "    </tr>\n",
       "    <tr>\n",
       "      <th>2192</th>\n",
       "      <td>(USA, Lines)</td>\n",
       "      <td>138</td>\n",
       "    </tr>\n",
       "    <tr>\n",
       "      <th>4576</th>\n",
       "      <td>(Lines, NntpPostingHost)</td>\n",
       "      <td>136</td>\n",
       "    </tr>\n",
       "  </tbody>\n",
       "</table>\n",
       "</div>"
      ],
      "text/plain": [
       "                           bigram  freq\n",
       "5                   (Subject, Re)  2434\n",
       "16                 (article, Apr)   570\n",
       "1298   (Organization, University)   495\n",
       "2053     (Lines, NNTPPostingHost)   471\n",
       "243         (Distribution, world)   368\n",
       "160         (Lines, Distribution)   316\n",
       "1526     (world, NNTPPostingHost)   216\n",
       "2429    (sandvik, newtonapplecom)   211\n",
       "2207             (Henry, Spencer)   179\n",
       "1168          (Computer, Science)   175\n",
       "4658           (XNewsreader, TIN)   164\n",
       "4659               (TIN, version)   164\n",
       "4660                (version, PL)   164\n",
       "2205       (henry, zootorontoedu)   162\n",
       "2581               (Jon, Livesey)   158\n",
       "2052          (University, Lines)   153\n",
       "2579  (livesey, solntzewpdsgicom)   153\n",
       "2580      (solntzewpdsgicom, Jon)   150\n",
       "2192                 (USA, Lines)   138\n",
       "4576     (Lines, NntpPostingHost)   136"
      ]
     },
     "execution_count": 133,
     "metadata": {},
     "output_type": "execute_result"
    }
   ],
   "source": [
    "def getFreqWithFilter(bigramFreqTable):\n",
    "    \n",
    "    \n",
    "    filtered_freq_bi = bigramFreqTable[bigramFreqTable.bigram.map(lambda x: filterBigramsUsingTypes(x,type_1,type_2))]\n",
    "    return filtered_freq_bi\n",
    "    \n",
    "filtered_freq_bi = getFreqWithFilter(bigramFreqTable)\n",
    "print(\"Frequency With Filter : \\n \\n\")\n",
    "filtered_freq_bi.head(20)"
   ]
  },
  {
   "cell_type": "markdown",
   "metadata": {},
   "source": [
    "### T-test with Filter\n",
    "\n",
    "In the below function, each bigram from bigramTable_ttest is checked against the tags mentioned in the filterBigramsUsingTypes() function. It will show top 20 results of the dataframe."
   ]
  },
  {
   "cell_type": "code",
   "execution_count": 134,
   "metadata": {},
   "outputs": [
    {
     "name": "stdout",
     "output_type": "stream",
     "text": [
      "Ttest With Filter : \n",
      " \n",
      "\n"
     ]
    },
    {
     "data": {
      "text/html": [
       "<div>\n",
       "<style scoped>\n",
       "    .dataframe tbody tr th:only-of-type {\n",
       "        vertical-align: middle;\n",
       "    }\n",
       "\n",
       "    .dataframe tbody tr th {\n",
       "        vertical-align: top;\n",
       "    }\n",
       "\n",
       "    .dataframe thead th {\n",
       "        text-align: right;\n",
       "    }\n",
       "</style>\n",
       "<table border=\"1\" class=\"dataframe\">\n",
       "  <thead>\n",
       "    <tr style=\"text-align: right;\">\n",
       "      <th></th>\n",
       "      <th>bigram_ttest</th>\n",
       "      <th>t</th>\n",
       "    </tr>\n",
       "  </thead>\n",
       "  <tbody>\n",
       "    <tr>\n",
       "      <th>0</th>\n",
       "      <td>(Subject, Re)</td>\n",
       "      <td>49.026437</td>\n",
       "    </tr>\n",
       "    <tr>\n",
       "      <th>3</th>\n",
       "      <td>(article, Apr)</td>\n",
       "      <td>23.720673</td>\n",
       "    </tr>\n",
       "    <tr>\n",
       "      <th>6</th>\n",
       "      <td>(Organization, University)</td>\n",
       "      <td>21.862747</td>\n",
       "    </tr>\n",
       "    <tr>\n",
       "      <th>7</th>\n",
       "      <td>(Lines, NNTPPostingHost)</td>\n",
       "      <td>21.471784</td>\n",
       "    </tr>\n",
       "    <tr>\n",
       "      <th>8</th>\n",
       "      <td>(Distribution, world)</td>\n",
       "      <td>19.134433</td>\n",
       "    </tr>\n",
       "    <tr>\n",
       "      <th>9</th>\n",
       "      <td>(Lines, Distribution)</td>\n",
       "      <td>17.570933</td>\n",
       "    </tr>\n",
       "    <tr>\n",
       "      <th>11</th>\n",
       "      <td>(world, NNTPPostingHost)</td>\n",
       "      <td>14.609433</td>\n",
       "    </tr>\n",
       "    <tr>\n",
       "      <th>12</th>\n",
       "      <td>(sandvik, newtonapplecom)</td>\n",
       "      <td>14.519644</td>\n",
       "    </tr>\n",
       "    <tr>\n",
       "      <th>15</th>\n",
       "      <td>(Henry, Spencer)</td>\n",
       "      <td>13.374119</td>\n",
       "    </tr>\n",
       "    <tr>\n",
       "      <th>16</th>\n",
       "      <td>(Computer, Science)</td>\n",
       "      <td>13.203624</td>\n",
       "    </tr>\n",
       "    <tr>\n",
       "      <th>17</th>\n",
       "      <td>(XNewsreader, TIN)</td>\n",
       "      <td>12.801140</td>\n",
       "    </tr>\n",
       "    <tr>\n",
       "      <th>18</th>\n",
       "      <td>(TIN, version)</td>\n",
       "      <td>12.792806</td>\n",
       "    </tr>\n",
       "    <tr>\n",
       "      <th>19</th>\n",
       "      <td>(version, PL)</td>\n",
       "      <td>12.789863</td>\n",
       "    </tr>\n",
       "    <tr>\n",
       "      <th>20</th>\n",
       "      <td>(henry, zootorontoedu)</td>\n",
       "      <td>12.722120</td>\n",
       "    </tr>\n",
       "    <tr>\n",
       "      <th>22</th>\n",
       "      <td>(Jon, Livesey)</td>\n",
       "      <td>12.565676</td>\n",
       "    </tr>\n",
       "    <tr>\n",
       "      <th>24</th>\n",
       "      <td>(livesey, solntzewpdsgicom)</td>\n",
       "      <td>12.364615</td>\n",
       "    </tr>\n",
       "    <tr>\n",
       "      <th>25</th>\n",
       "      <td>(solntzewpdsgicom, Jon)</td>\n",
       "      <td>12.241505</td>\n",
       "    </tr>\n",
       "    <tr>\n",
       "      <th>27</th>\n",
       "      <td>(University, Lines)</td>\n",
       "      <td>11.651978</td>\n",
       "    </tr>\n",
       "    <tr>\n",
       "      <th>28</th>\n",
       "      <td>(USA, Lines)</td>\n",
       "      <td>11.608579</td>\n",
       "    </tr>\n",
       "    <tr>\n",
       "      <th>29</th>\n",
       "      <td>(Apr, GMT)</td>\n",
       "      <td>11.592073</td>\n",
       "    </tr>\n",
       "  </tbody>\n",
       "</table>\n",
       "</div>"
      ],
      "text/plain": [
       "                   bigram_ttest          t\n",
       "0                 (Subject, Re)  49.026437\n",
       "3                (article, Apr)  23.720673\n",
       "6    (Organization, University)  21.862747\n",
       "7      (Lines, NNTPPostingHost)  21.471784\n",
       "8         (Distribution, world)  19.134433\n",
       "9         (Lines, Distribution)  17.570933\n",
       "11     (world, NNTPPostingHost)  14.609433\n",
       "12    (sandvik, newtonapplecom)  14.519644\n",
       "15             (Henry, Spencer)  13.374119\n",
       "16          (Computer, Science)  13.203624\n",
       "17           (XNewsreader, TIN)  12.801140\n",
       "18               (TIN, version)  12.792806\n",
       "19                (version, PL)  12.789863\n",
       "20       (henry, zootorontoedu)  12.722120\n",
       "22               (Jon, Livesey)  12.565676\n",
       "24  (livesey, solntzewpdsgicom)  12.364615\n",
       "25      (solntzewpdsgicom, Jon)  12.241505\n",
       "27          (University, Lines)  11.651978\n",
       "28                 (USA, Lines)  11.608579\n",
       "29                   (Apr, GMT)  11.592073"
      ]
     },
     "execution_count": 134,
     "metadata": {},
     "output_type": "execute_result"
    }
   ],
   "source": [
    "def getTtestWithFilter(bigramTable_ttest):\n",
    "    \n",
    "    filtered_bi_ttest = bigramTable_ttest[bigramTable_ttest.bigram_ttest.map(lambda x: filterBigramsUsingTypes(x,type_1,type_2))]\n",
    "    return filtered_bi_ttest\n",
    "    \n",
    "filtered_bi_ttest=getTtestWithFilter(bigramTable_ttest)\n",
    "print(\"Ttest With Filter : \\n \\n\")\n",
    "filtered_bi_ttest.head(20)"
   ]
  },
  {
   "cell_type": "markdown",
   "metadata": {},
   "source": [
    "### Q-1 c)"
   ]
  },
  {
   "cell_type": "markdown",
   "metadata": {},
   "source": [
    "### Comparing the Result of Different Techniques\n",
    "\n",
    "* Frequency and T-test with filter methods give similar tuples as shown in the dataframe below. Using both the methods shows the overlapping of the tuples.\n",
    "* There are other methods like Mean and Variance, Likelihood Ratio which can be combined with the below methods to a distribution of the data to find the goodness of fit. Though T-test uses the Mean values internally.\n",
    "* Chi Square and PMI also gives the results which are better than the results obtained from the T-test and Frequency without filtering.\n",
    "* Good collocation has high PMI scores because the difference between the probability of co-occurance of words and frequency of words is low. Combining the Frequency and PMI can be good for getting the best results in terms of collocation extraction."
   ]
  },
  {
   "cell_type": "code",
   "execution_count": 135,
   "metadata": {},
   "outputs": [
    {
     "data": {
      "text/html": [
       "<div>\n",
       "<style scoped>\n",
       "    .dataframe tbody tr th:only-of-type {\n",
       "        vertical-align: middle;\n",
       "    }\n",
       "\n",
       "    .dataframe tbody tr th {\n",
       "        vertical-align: top;\n",
       "    }\n",
       "\n",
       "    .dataframe thead th {\n",
       "        text-align: right;\n",
       "    }\n",
       "</style>\n",
       "<table border=\"1\" class=\"dataframe\">\n",
       "  <thead>\n",
       "    <tr style=\"text-align: right;\">\n",
       "      <th></th>\n",
       "      <th>Frequency Filter</th>\n",
       "      <th>Ttest</th>\n",
       "      <th>Chi Square</th>\n",
       "      <th>PMI</th>\n",
       "    </tr>\n",
       "  </thead>\n",
       "  <tbody>\n",
       "    <tr>\n",
       "      <th>0</th>\n",
       "      <td>(Subject, Re)</td>\n",
       "      <td>(Subject, Re)</td>\n",
       "      <td>(AAAA, BBBB)</td>\n",
       "      <td>(AAO, AngloAustralian)</td>\n",
       "    </tr>\n",
       "    <tr>\n",
       "      <th>1</th>\n",
       "      <td>(article, Apr)</td>\n",
       "      <td>(article, Apr)</td>\n",
       "      <td>(finn, bscno)</td>\n",
       "      <td>(expound, Ambrose)</td>\n",
       "    </tr>\n",
       "    <tr>\n",
       "      <th>2</th>\n",
       "      <td>(Organization, University)</td>\n",
       "      <td>(Organization, University)</td>\n",
       "      <td>(firstcome, firstserved)</td>\n",
       "      <td>(evolutionaire, eindprodukten)</td>\n",
       "    </tr>\n",
       "    <tr>\n",
       "      <th>3</th>\n",
       "      <td>(Lines, NNTPPostingHost)</td>\n",
       "      <td>(Lines, NNTPPostingHost)</td>\n",
       "      <td>(firstest, mostest)</td>\n",
       "      <td>(evolutions, hitherto)</td>\n",
       "    </tr>\n",
       "    <tr>\n",
       "      <th>4</th>\n",
       "      <td>(Distribution, world)</td>\n",
       "      <td>(Distribution, world)</td>\n",
       "      <td>(fischer, iesdaucdk)</td>\n",
       "      <td>(exasperating, Sexism)</td>\n",
       "    </tr>\n",
       "    <tr>\n",
       "      <th>5</th>\n",
       "      <td>(Lines, Distribution)</td>\n",
       "      <td>(Lines, Distribution)</td>\n",
       "      <td>(fitz, cseogiedu)</td>\n",
       "      <td>(excepting, Pfaith)</td>\n",
       "    </tr>\n",
       "    <tr>\n",
       "      <th>6</th>\n",
       "      <td>(world, NNTPPostingHost)</td>\n",
       "      <td>(world, NNTPPostingHost)</td>\n",
       "      <td>(flagellating, genuflecting)</td>\n",
       "      <td>(excessively, darken)</td>\n",
       "    </tr>\n",
       "    <tr>\n",
       "      <th>7</th>\n",
       "      <td>(sandvik, newtonapplecom)</td>\n",
       "      <td>(sandvik, newtonapplecom)</td>\n",
       "      <td>(flamboyant, orgies)</td>\n",
       "      <td>(exiled, Assyrian)</td>\n",
       "    </tr>\n",
       "    <tr>\n",
       "      <th>8</th>\n",
       "      <td>(Henry, Spencer)</td>\n",
       "      <td>(Henry, Spencer)</td>\n",
       "      <td>(flatten, steamroller)</td>\n",
       "      <td>(experi, ences)</td>\n",
       "    </tr>\n",
       "    <tr>\n",
       "      <th>9</th>\n",
       "      <td>(Computer, Science)</td>\n",
       "      <td>(Computer, Science)</td>\n",
       "      <td>(flb, flboptiplanfi)</td>\n",
       "      <td>(expired, gunpowder)</td>\n",
       "    </tr>\n",
       "    <tr>\n",
       "      <th>10</th>\n",
       "      <td>(XNewsreader, TIN)</td>\n",
       "      <td>(XNewsreader, TIN)</td>\n",
       "      <td>(flees, resists)</td>\n",
       "      <td>(exter, nally)</td>\n",
       "    </tr>\n",
       "    <tr>\n",
       "      <th>11</th>\n",
       "      <td>(TIN, version)</td>\n",
       "      <td>(TIN, version)</td>\n",
       "      <td>(flibble, glop)</td>\n",
       "      <td>(gf, msuinfoclmsuedu)</td>\n",
       "    </tr>\n",
       "    <tr>\n",
       "      <th>12</th>\n",
       "      <td>(version, PL)</td>\n",
       "      <td>(version, PL)</td>\n",
       "      <td>(flighttested, cesium)</td>\n",
       "      <td>(extravagant, REFUSAL)</td>\n",
       "    </tr>\n",
       "    <tr>\n",
       "      <th>13</th>\n",
       "      <td>(henry, zootorontoedu)</td>\n",
       "      <td>(henry, zootorontoedu)</td>\n",
       "      <td>(flirting, therapist)</td>\n",
       "      <td>(ezzie, lucslancsacuk)</td>\n",
       "    </tr>\n",
       "    <tr>\n",
       "      <th>14</th>\n",
       "      <td>(Jon, Livesey)</td>\n",
       "      <td>(Jon, Livesey)</td>\n",
       "      <td>(flowery, brownnosers)</td>\n",
       "      <td>(fa, thers)</td>\n",
       "    </tr>\n",
       "    <tr>\n",
       "      <th>15</th>\n",
       "      <td>(University, Lines)</td>\n",
       "      <td>(livesey, solntzewpdsgicom)</td>\n",
       "      <td>(fluent, dartmouthEDU)</td>\n",
       "      <td>(fabulous, feather)</td>\n",
       "    </tr>\n",
       "    <tr>\n",
       "      <th>16</th>\n",
       "      <td>(livesey, solntzewpdsgicom)</td>\n",
       "      <td>(solntzewpdsgicom, Jon)</td>\n",
       "      <td>(fluidmechanically, compressible)</td>\n",
       "      <td>(facinated, pnumatic)</td>\n",
       "    </tr>\n",
       "    <tr>\n",
       "      <th>17</th>\n",
       "      <td>(solntzewpdsgicom, Jon)</td>\n",
       "      <td>(University, Lines)</td>\n",
       "      <td>(fluxes, Theorists)</td>\n",
       "      <td>(factorymade, ammonium)</td>\n",
       "    </tr>\n",
       "    <tr>\n",
       "      <th>18</th>\n",
       "      <td>(USA, Lines)</td>\n",
       "      <td>(USA, Lines)</td>\n",
       "      <td>(flythrough, fractalgenerated)</td>\n",
       "      <td>(farewell, Berryman)</td>\n",
       "    </tr>\n",
       "    <tr>\n",
       "      <th>19</th>\n",
       "      <td>(Lines, NntpPostingHost)</td>\n",
       "      <td>(Apr, GMT)</td>\n",
       "      <td>(fnord, Episkopos)</td>\n",
       "      <td>(fatherly, admonitions)</td>\n",
       "    </tr>\n",
       "  </tbody>\n",
       "</table>\n",
       "</div>"
      ],
      "text/plain": [
       "               Frequency Filter                        Ttest  \\\n",
       "0                 (Subject, Re)                (Subject, Re)   \n",
       "1                (article, Apr)               (article, Apr)   \n",
       "2    (Organization, University)   (Organization, University)   \n",
       "3      (Lines, NNTPPostingHost)     (Lines, NNTPPostingHost)   \n",
       "4         (Distribution, world)        (Distribution, world)   \n",
       "5         (Lines, Distribution)        (Lines, Distribution)   \n",
       "6      (world, NNTPPostingHost)     (world, NNTPPostingHost)   \n",
       "7     (sandvik, newtonapplecom)    (sandvik, newtonapplecom)   \n",
       "8              (Henry, Spencer)             (Henry, Spencer)   \n",
       "9           (Computer, Science)          (Computer, Science)   \n",
       "10           (XNewsreader, TIN)           (XNewsreader, TIN)   \n",
       "11               (TIN, version)               (TIN, version)   \n",
       "12                (version, PL)                (version, PL)   \n",
       "13       (henry, zootorontoedu)       (henry, zootorontoedu)   \n",
       "14               (Jon, Livesey)               (Jon, Livesey)   \n",
       "15          (University, Lines)  (livesey, solntzewpdsgicom)   \n",
       "16  (livesey, solntzewpdsgicom)      (solntzewpdsgicom, Jon)   \n",
       "17      (solntzewpdsgicom, Jon)          (University, Lines)   \n",
       "18                 (USA, Lines)                 (USA, Lines)   \n",
       "19     (Lines, NntpPostingHost)                   (Apr, GMT)   \n",
       "\n",
       "                           Chi Square                             PMI  \n",
       "0                        (AAAA, BBBB)          (AAO, AngloAustralian)  \n",
       "1                       (finn, bscno)              (expound, Ambrose)  \n",
       "2            (firstcome, firstserved)  (evolutionaire, eindprodukten)  \n",
       "3                 (firstest, mostest)          (evolutions, hitherto)  \n",
       "4                (fischer, iesdaucdk)          (exasperating, Sexism)  \n",
       "5                   (fitz, cseogiedu)             (excepting, Pfaith)  \n",
       "6        (flagellating, genuflecting)           (excessively, darken)  \n",
       "7                (flamboyant, orgies)              (exiled, Assyrian)  \n",
       "8              (flatten, steamroller)                 (experi, ences)  \n",
       "9                (flb, flboptiplanfi)            (expired, gunpowder)  \n",
       "10                   (flees, resists)                  (exter, nally)  \n",
       "11                    (flibble, glop)           (gf, msuinfoclmsuedu)  \n",
       "12             (flighttested, cesium)          (extravagant, REFUSAL)  \n",
       "13              (flirting, therapist)          (ezzie, lucslancsacuk)  \n",
       "14             (flowery, brownnosers)                     (fa, thers)  \n",
       "15             (fluent, dartmouthEDU)             (fabulous, feather)  \n",
       "16  (fluidmechanically, compressible)           (facinated, pnumatic)  \n",
       "17                (fluxes, Theorists)         (factorymade, ammonium)  \n",
       "18     (flythrough, fractalgenerated)            (farewell, Berryman)  \n",
       "19                 (fnord, Episkopos)         (fatherly, admonitions)  "
      ]
     },
     "execution_count": 135,
     "metadata": {},
     "output_type": "execute_result"
    }
   ],
   "source": [
    "def convertDfToSeries(df,resultsToShow,columnName):\n",
    "    \n",
    "    resultSeries = pd.Series()\n",
    "    series = df.head(resultsToShow)[columnName]\n",
    "    return list(series)\n",
    "    \n",
    "\n",
    "freqList = convertDfToSeries(df=filtered_freq_bi,resultsToShow=20,columnName='bigram') \n",
    "ttestList = convertDfToSeries(df=filtered_bi_ttest,resultsToShow=20,columnName='bigram_ttest')   \n",
    "chiList= convertDfToSeries(df=bigramTtable_chisq,resultsToShow=20,columnName='bigram_chi')   \n",
    "pmiList = convertDfToSeries(df=bigramPMITable_PMI,resultsToShow=20,columnName='bigram_pmi')   \n",
    "\n",
    "# https://thispointer.com/python-pandas-how-to-convert-lists-to-a-dataframe/\n",
    "\n",
    "zippedList =list(zip(freqList,ttestList,chiList,pmiList))\n",
    "\n",
    "comparisonDf = pd.DataFrame(zippedList, columns = ['Frequency Filter','Ttest','Chi Square', 'PMI'])\n",
    "comparisonDf                  "
   ]
  },
  {
   "cell_type": "markdown",
   "metadata": {},
   "source": [
    "### Q-2 a)\n",
    "### Clean the text:"
   ]
  },
  {
   "cell_type": "markdown",
   "metadata": {},
   "source": [
    "### 1. Removal of Stop-words:\n",
    "Stop words such as \"a\" \"and\" \"but,\" \"how\" \"or\" and \"what\" are removed from the database as a part of the cleaning process to reduce the dimensional space while performing text mining."
   ]
  },
  {
   "cell_type": "code",
   "execution_count": 136,
   "metadata": {},
   "outputs": [
    {
     "name": "stdout",
     "output_type": "stream",
     "text": [
      "[':', 'healta', '@', 'saturn.wwc.edu', '(', 'Tammy', 'R', 'Healy', ')', 'Subject', ':', ':', 'judge', ',', 'Bobby', '?', 'Lines', ':', '38', 'Organization', ':', 'Walla', 'Walla', 'College', 'Lines', ':', '38', 'article', '<', '1993Apr14.213356.22176', '@', 'ultb.isc.rit.edu', '>', 'snm6394', '@', 'ultb.isc.rit.edu', '(', 'S.N', '.', 'Mozumder', ')', 'writes', ':', '>', ':', 'snm6394', '@', 'ultb.isc.rit.edu', '(', 'S.N', '.', 'Mozumder', ')', '>', 'Subject', ':', ':', 'judge', ',', 'Bobby', '?', '>', 'Date', ':', 'Wed', ',', '14', 'Apr', '1993', '21:33:56', 'GMT', '>', 'article', '<', 'healta.56.734556346', '@', 'saturn.wwc.edu', '>', 'healta', '@', 'saturn.wwc.edu', '(', 'TAMMY', 'R', 'HEALY', ')', 'writes', ':', '>', '>', 'Bobby', ',', '>', '>', '>', '>', 'would', 'like', 'take', 'liberty', 'quote', 'Christian', 'writer', 'named', '>', '>', 'Ellen', 'G.', 'White', '.', 'hope', 'said', 'help', 'edit', '>', '>', 'remarks', 'group', 'future', '.', '>', '>', '>', '>', \"''\", 'set', 'standard', '.', 'make', 'opinions', ',', 'views', '>', '>', 'duty', ',', 'interpretations', 'scripture', ',', 'criterion', 'others', '>', '>', 'heart', 'condemn', 'come', 'ideal', '.', \"''\", '>', '>', 'Thoughts', 'Fromthe', 'Mount', 'Blessing', 'p.', '124', '>', '>', '>', '>', 'hope', 'quoting', \"n't\", 'make', 'atheists', 'gag', ',', 'think', 'Ellen', 'White', '>', '>', 'put', 'better', 'could', '.', '>', '>', '>', '>', 'Tammy', '>', '>', 'Point', '?', '>', '>', 'Peace', ',', '>', '>', 'Bobby', 'Mozumder', '>', 'point', 'set', 'views', 'way', 'believe', '.', 'Saying', 'eveil', 'world', 'caused', 'atheism', 'ridiculous', 'counterproductive', 'dialogue', 'newsgroups', '.', 'see', 'posts', 'spirit', 'condemnation', 'atheists', 'newsgroup', 'bacause', \"don'\", 'believe', 'exactly', '.', \"'re\", 'try', 'convert', 'atheists', ',', \"'re\", 'failing', 'miserably', '.', 'wants', 'position', 'constantly', 'defending', 'agaist', 'insulting', 'attacks', ',', 'like', 'seem', 'like', '?', '!', \"'m\", 'sorry', \"'re\", 'blind', \"n't\", 'get', 'messgae', 'quote', ',', 'everyone', 'else', 'seemed', '.', 'Tammy']\n"
     ]
    }
   ],
   "source": [
    "#tokenized_text_clean = word_tokenize(newsgroups_All) \n",
    "stop_words=list(stopwords.words(\"english\"))\n",
    "\n",
    "def removeStopWords(stop_words):\n",
    "    \n",
    "    tokenized_word = []\n",
    "    list1=[]\n",
    "    list2=[]\n",
    "    Remove_stopword=[]\n",
    "    \n",
    "    for i in newsgroups_All.data:\n",
    "        tokenized_word.append(word_tokenize(i))\n",
    "   \n",
    "    for i in range(len(tokenized_word)):\n",
    "        for j in range(len(tokenized_word[i])):\n",
    "            #print(tokenized_word[i][j])\n",
    "            if tokenized_word[i][j].lower() not in stop_words:\n",
    "                list1.append(tokenized_word[i][j])\n",
    "        list2.append(list1)\n",
    "        list1=[]\n",
    "    \n",
    "    return list2\n",
    "    \n",
    "listAfterRemovingStopWords = removeStopWords(stop_words)\n",
    "print(listAfterRemovingStopWords[0])"
   ]
  },
  {
   "cell_type": "markdown",
   "metadata": {},
   "source": [
    "### 2. Remove Numbers and all Non-characters\n",
    "To remove all non-characters such as digits, special character(@,!,&) we have replace them with empty string."
   ]
  },
  {
   "cell_type": "code",
   "execution_count": 137,
   "metadata": {},
   "outputs": [
    {
     "name": "stdout",
     "output_type": "stream",
     "text": [
      "['', 'healta', '', 'saturnwwcedu', '', 'Tammy', 'R', 'Healy', '', 'Subject', '', '', 'judge', '', 'Bobby', '', 'Lines', '', '', 'Organization', '', 'Walla', 'Walla', 'College', 'Lines', '', '', 'article', '', 'Apr', '', 'ultbiscritedu', '', 'snm', '', 'ultbiscritedu', '', 'SN', '', 'Mozumder', '', 'writes', '', '', '', 'snm', '', 'ultbiscritedu', '', 'SN', '', 'Mozumder', '', '', 'Subject', '', '', 'judge', '', 'Bobby', '', '', 'Date', '', 'Wed', '', '', 'Apr', '', '', 'GMT', '', 'article', '', 'healta', '', 'saturnwwcedu', '', 'healta', '', 'saturnwwcedu', '', 'TAMMY', 'R', 'HEALY', '', 'writes', '', '', '', 'Bobby', '', '', '', '', '', 'would', 'like', 'take', 'liberty', 'quote', 'Christian', 'writer', 'named', '', '', 'Ellen', 'G', 'White', '', 'hope', 'said', 'help', 'edit', '', '', 'remarks', 'group', 'future', '', '', '', '', '', '', 'set', 'standard', '', 'make', 'opinions', '', 'views', '', '', 'duty', '', 'interpretations', 'scripture', '', 'criterion', 'others', '', '', 'heart', 'condemn', 'come', 'ideal', '', '', '', '', 'Thoughts', 'Fromthe', 'Mount', 'Blessing', 'p', '', '', '', '', '', 'hope', 'quoting', 'nt', 'make', 'atheists', 'gag', '', 'think', 'Ellen', 'White', '', '', 'put', 'better', 'could', '', '', '', '', '', 'Tammy', '', '', 'Point', '', '', '', 'Peace', '', '', '', 'Bobby', 'Mozumder', '', 'point', 'set', 'views', 'way', 'believe', '', 'Saying', 'eveil', 'world', 'caused', 'atheism', 'ridiculous', 'counterproductive', 'dialogue', 'newsgroups', '', 'see', 'posts', 'spirit', 'condemnation', 'atheists', 'newsgroup', 'bacause', 'don', 'believe', 'exactly', '', 're', 'try', 'convert', 'atheists', '', 're', 'failing', 'miserably', '', 'wants', 'position', 'constantly', 'defending', 'agaist', 'insulting', 'attacks', '', 'like', 'seem', 'like', '', '', 'm', 'sorry', 're', 'blind', 'nt', 'get', 'messgae', 'quote', '', 'everyone', 'else', 'seemed', '', 'Tammy']\n"
     ]
    }
   ],
   "source": [
    "def removeNonCharacters(listAfterRemovingStopWords):\n",
    "    \n",
    "    Remove_noncharacter=[]\n",
    "    list_after_removing_nonchars=[]\n",
    "    for i in range(len(listAfterRemovingStopWords)):\n",
    "        for j in range(len(listAfterRemovingStopWords[i])):\n",
    "            Remove_noncharacter.append(re.sub(r'[^A-Za-z]', '', listAfterRemovingStopWords[i][j]))\n",
    "        list_after_removing_nonchars.append(Remove_noncharacter)\n",
    "        Remove_noncharacter=[]\n",
    "        \n",
    "    return list_after_removing_nonchars\n",
    "    \n",
    "list_after_removing_nonchars= removeNonCharacters(listAfterRemovingStopWords)\n",
    "print(list_after_removing_nonchars[0])"
   ]
  },
  {
   "cell_type": "markdown",
   "metadata": {},
   "source": [
    "### Remove Null Values\n",
    "We have removed all the null values from the dataset as a part of the cleaning and display the sample result.\n",
    "In the result, it can be clearly seen that there are no null values present."
   ]
  },
  {
   "cell_type": "code",
   "execution_count": 138,
   "metadata": {},
   "outputs": [
    {
     "name": "stdout",
     "output_type": "stream",
     "text": [
      "['healta', 'saturnwwcedu', 'Tammy', 'R', 'Healy', 'Subject', 'judge', 'Bobby', 'Lines', 'Organization', 'Walla', 'Walla', 'College', 'Lines', 'article', 'Apr', 'ultbiscritedu', 'snm', 'ultbiscritedu', 'SN', 'Mozumder', 'writes', 'snm', 'ultbiscritedu', 'SN', 'Mozumder', 'Subject', 'judge', 'Bobby', 'Date', 'Wed', 'Apr', 'GMT', 'article', 'healta', 'saturnwwcedu', 'healta', 'saturnwwcedu', 'TAMMY', 'R', 'HEALY', 'writes', 'Bobby', 'would', 'like', 'take', 'liberty', 'quote', 'Christian', 'writer', 'named', 'Ellen', 'G', 'White', 'hope', 'said', 'help', 'edit', 'remarks', 'group', 'future', 'set', 'standard', 'make', 'opinions', 'views', 'duty', 'interpretations', 'scripture', 'criterion', 'others', 'heart', 'condemn', 'come', 'ideal', 'Thoughts', 'Fromthe', 'Mount', 'Blessing', 'p', 'hope', 'quoting', 'nt', 'make', 'atheists', 'gag', 'think', 'Ellen', 'White', 'put', 'better', 'could', 'Tammy', 'Point', 'Peace', 'Bobby', 'Mozumder', 'point', 'set', 'views', 'way', 'believe', 'Saying', 'eveil', 'world', 'caused', 'atheism', 'ridiculous', 'counterproductive', 'dialogue', 'newsgroups', 'see', 'posts', 'spirit', 'condemnation', 'atheists', 'newsgroup', 'bacause', 'don', 'believe', 'exactly', 're', 'try', 'convert', 'atheists', 're', 'failing', 'miserably', 'wants', 'position', 'constantly', 'defending', 'agaist', 'insulting', 'attacks', 'like', 'seem', 'like', 'm', 'sorry', 're', 'blind', 'nt', 'get', 'messgae', 'quote', 'everyone', 'else', 'seemed', 'Tammy']\n"
     ]
    }
   ],
   "source": [
    "def removeNulls(list_after_removing_nonchars):\n",
    "    \n",
    "    list_after_removing_nulls=[]\n",
    "    for i in range(len(list_after_removing_nonchars)):\n",
    "        list_after_removing_nulls.append([x for x in list_after_removing_nonchars[i] if x])\n",
    "    \n",
    "    return list_after_removing_nulls\n",
    "    \n",
    "list_after_removing_nulls = removeNulls(list_after_removing_nonchars)\n",
    "print(list_after_removing_nulls[0])"
   ]
  },
  {
   "cell_type": "markdown",
   "metadata": {},
   "source": [
    "### Stem the words\n",
    "Stemming is the process of reducing a word to its roots of words known as a lemma.\n",
    "Ex. stemming for root word like include:\n",
    "1. likes 2. likely 3. liking 4. liked\n",
    "\n",
    "We have used Potter’s Stemmer algorithm which produces best output as compared to other stemmers and it has less error rate."
   ]
  },
  {
   "cell_type": "code",
   "execution_count": 139,
   "metadata": {},
   "outputs": [
    {
     "name": "stdout",
     "output_type": "stream",
     "text": [
      "['healta', 'saturnwwcedu', 'tammi', 'R', 'heali', 'subject', 'judg', 'bobbi', 'line', 'organ', 'walla', 'walla', 'colleg', 'line', 'articl', 'apr', 'ultbiscritedu', 'snm', 'ultbiscritedu', 'SN', 'mozumd', 'write', 'snm', 'ultbiscritedu', 'SN', 'mozumd', 'subject', 'judg', 'bobbi', 'date', 'wed', 'apr', 'gmt', 'articl', 'healta', 'saturnwwcedu', 'healta', 'saturnwwcedu', 'tammi', 'R', 'heali', 'write', 'bobbi', 'would', 'like', 'take', 'liberti', 'quot', 'christian', 'writer', 'name', 'ellen', 'G', 'white', 'hope', 'said', 'help', 'edit', 'remark', 'group', 'futur', 'set', 'standard', 'make', 'opinion', 'view', 'duti', 'interpret', 'scriptur', 'criterion', 'other', 'heart', 'condemn', 'come', 'ideal', 'thought', 'fromth', 'mount', 'bless', 'p', 'hope', 'quot', 'nt', 'make', 'atheist', 'gag', 'think', 'ellen', 'white', 'put', 'better', 'could', 'tammi', 'point', 'peac', 'bobbi', 'mozumd', 'point', 'set', 'view', 'way', 'believ', 'say', 'eveil', 'world', 'caus', 'atheism', 'ridicul', 'counterproduct', 'dialogu', 'newsgroup', 'see', 'post', 'spirit', 'condemn', 'atheist', 'newsgroup', 'bacaus', 'don', 'believ', 'exactli', 're', 'tri', 'convert', 'atheist', 're', 'fail', 'miser', 'want', 'posit', 'constantli', 'defend', 'agaist', 'insult', 'attack', 'like', 'seem', 'like', 'm', 'sorri', 're', 'blind', 'nt', 'get', 'messga', 'quot', 'everyon', 'els', 'seem', 'tammi']\n"
     ]
    }
   ],
   "source": [
    "# https://www.geeksforgeeks.org/introduction-to-stemming/\n",
    "# https://www.tutorialspoint.com/python/python_stemming_algorithms\n",
    "def stemmingProcess(list_after_removing_nulls):\n",
    "    \n",
    "    stemmed_words=[]\n",
    "    temp_stemmed_words=[]\n",
    "    \n",
    "    for i in range(len(list_after_removing_nulls)):\n",
    "        for j in range(len(list_after_removing_nulls[i])):\n",
    "            temp_stemmed_words.append(PorterStemmer().stem(list_after_removing_nulls[i][j]))\n",
    "        stemmed_words.append(temp_stemmed_words)\n",
    "        temp_stemmed_words=[]\n",
    "        \n",
    "    return stemmed_words\n",
    "\n",
    "stemmed_words = stemmingProcess(list_after_removing_nulls)\n",
    "print(stemmed_words[0])"
   ]
  },
  {
   "cell_type": "code",
   "execution_count": 140,
   "metadata": {},
   "outputs": [],
   "source": [
    "clean_data=[]\n",
    "\n",
    "for i in range(len(stemmed_words)):\n",
    "    clean_data.append(' '.join(stemmed_words[i]))\n"
   ]
  },
  {
   "cell_type": "markdown",
   "metadata": {},
   "source": [
    "### Q-2 b)"
   ]
  },
  {
   "cell_type": "markdown",
   "metadata": {},
   "source": [
    "### bag-of-words \n",
    "In order to perform text mining,first we need to turn the text content into numerical feature vectors. We cannot feed Raw data or a sequence of words directly to the algorithms or model as most of the model expects numerical feature vectors. scikit-learn provides utilities to extract numerical features from text content, i.e:\n",
    "\n",
    "1. **Tokenizing**:- Giving an integer id for each possible token, \n",
    "2. **Counting**:-  The occurrences of tokens in every document.\n",
    "2. **Normalizing**:- Giving weights to the token which occur majority in the documnet.\n",
    "\n",
    "tokenization, counting and normalization is also known the Bag of Words\n",
    "Using CountVectorizer we can implement tokenization and occurrence counting in a single class.\n",
    "\n",
    " CountVectorizer **class fit_transform()** method converts the data into term-document sparse matrix."
   ]
  },
  {
   "cell_type": "code",
   "execution_count": 141,
   "metadata": {},
   "outputs": [
    {
     "data": {
      "text/plain": [
       "(3387, 31715)"
      ]
     },
     "execution_count": 141,
     "metadata": {},
     "output_type": "execute_result"
    }
   ],
   "source": [
    "# https://scikit-learn.org/0.19/datasets/twenty_newsgroups.html\n",
    "#https://scikit-learn.org/stable/modules/feature_extraction.html\n",
    "def convertToBagOfWords(clean_data):\n",
    "    \n",
    "    count_vect = CountVectorizer()\n",
    "    X_train_counts = count_vect.fit_transform(clean_data)\n",
    "    return X_train_counts\n",
    "\n",
    "X_train_counts = convertToBagOfWords(clean_data)\n",
    "\n",
    "X_train_counts.shape"
   ]
  },
  {
   "cell_type": "markdown",
   "metadata": {},
   "source": [
    "**tf stands  Term Frequency**. \n",
    "It is calculated by dividing  total number of times a term occurs in the document by the total number of terms present in the document.\n",
    "\n",
    "**idf stands for Inverse Document Frequency**. \n",
    "It is calculated by taking the logarithmic of the total number of documents in the divided by the number of documents in which the term has present. This normalization is to up-weigh the rare terms in the corpus.\n",
    "\n",
    "**tf-idf** helps us to rank the importance of a term to the document in its contextual document corpus.\n",
    "\n",
    "For example , let assume that the search query is \"what is birthplace of John snow\". During searching for documents to this query, we need to give the least importance to words \"what\",\"is\",\"of\" and give more importance to \"John\",\"snow\" and \"birthplace\".Due to low idf value of \"what\" , \"is\" , \"of\" , their contribution will be very low to the calculation of relevance of a document to the query . Documents having high occurance of \"John\",\"Snow\" and \"birthplace\" will get more weight and hence better rank ."
   ]
  },
  {
   "cell_type": "code",
   "execution_count": 142,
   "metadata": {},
   "outputs": [
    {
     "data": {
      "text/plain": [
       "(3387, 31715)"
      ]
     },
     "execution_count": 142,
     "metadata": {},
     "output_type": "execute_result"
    }
   ],
   "source": [
    "# https://www.quora.com/What-is-a-tf-idf-vector\n",
    "# https://scikit-learn.org/stable/modules/feature_extraction.html\n",
    "def convertToTfIdf(X_train_counts):\n",
    "    \n",
    "    tfidf_transformer = TfidfTransformer()\n",
    "    X_train_tfidf = tfidf_transformer.fit_transform(X_train_counts)\n",
    "    return X_train_tfidf\n",
    "    \n",
    "X_train_tfidf = convertToTfIdf(X_train_counts)\n",
    "X_train_tfidf.shape"
   ]
  },
  {
   "cell_type": "markdown",
   "metadata": {},
   "source": [
    "### Q-2 c)\n",
    "### Text Classification\n",
    "\n",
    "Text classification is performed on data represented using the Bag Of Wods and TF-IDF vector representation. Data is split randomly using the train_test_split()  of sklearn module with 70% Trainset Size and 30% Testset size. Prefix X shows the data except the target column in both the sets whereas Prefix y shows the target column data."
   ]
  },
  {
   "cell_type": "code",
   "execution_count": 143,
   "metadata": {},
   "outputs": [],
   "source": [
    "X_train, X_test,y_train,y_test = train_test_split(X_train_tfidf,newsgroups_All.target,test_size = 0.3)"
   ]
  },
  {
   "cell_type": "markdown",
   "metadata": {},
   "source": [
    "### Split arrays or matrices into train and test subsets\n",
    "Text classification is performed on data represented using the Bag Of Wods and TF-IDF vector representation. Data is split randomly using the train_test_split()  of sklearn module with 70% Trainset Size and 30% Testset size. Prefix X shows the data except the target column in both the sets whereas Prefix y shows the target column data."
   ]
  },
  {
   "cell_type": "code",
   "execution_count": 144,
   "metadata": {},
   "outputs": [
    {
     "name": "stdout",
     "output_type": "stream",
     "text": [
      "(2370, 31715)\n",
      "(1017, 31715)\n",
      "2370\n",
      "1017\n"
     ]
    }
   ],
   "source": [
    "print(X_train.shape)\n",
    "print(X_test.shape)\n",
    "print(y_train.shape[0])\n",
    "print(y_test.shape[0])"
   ]
  },
  {
   "cell_type": "markdown",
   "metadata": {},
   "source": [
    "We have built our model using **Multinomial Naive Bayes** and **Support Vector Machine** classifier to calculate training and testing score.\n",
    "From the below experiment, we can say that test score of SVM is higher which is **95.08%** while test score for Naive Bayes is **92.62%**.\n",
    "\n",
    "**Parameters selection for SVM**\n",
    "\n",
    "1. **degree** :- Default value for this parameter is 3. It is the degree of the polynomial kernal function and ignored by all other kernel.\n",
    "2. **C** :- This parameter tells the SVM optimization to how much we want to avoid misclassifying each training example\n",
    "3. **Gamma** :- Gamma parameter defines how far the influence of a single training example reaches, with low values meaning far and  high values means the close.\n",
    "4. **kernel**:- It defines type of the kernel used in the algorithm. It can be linear, poly, rbf or sigmoid."
   ]
  },
  {
   "cell_type": "code",
   "execution_count": 145,
   "metadata": {},
   "outputs": [
    {
     "name": "stdout",
     "output_type": "stream",
     "text": [
      "\t \t Accuracy of Multinomial Naive Bayes Classifier  on training set: 95.73839662447257\n",
      "\t \t Accuracy of Multinomial Naive Bayes Classifier  on Test set: 92.62536873156341 \n",
      "\n",
      "\t \t Accuracy of Support Vector Machine Classifier  on training set: 99.53586497890295\n",
      "\t \t Accuracy of Support Vector Machine Classifier  on Test set: 95.08357915437561 \n",
      "\n"
     ]
    }
   ],
   "source": [
    "# https://scikit-learn.org/stable/modules/generated/sklearn.svm.SVC.html\n",
    "# https://www.quora.com/What-are-C-and-gamma-with-regards-to-a-support-vector-machine\n",
    "# https://scikit-learn.org/stable/modules/generated/sklearn.feature_extraction.text.CountVectorizer.html\n",
    "# https://medium.com/@bedigunjit/simple-guide-to-text-classification-nlp-using-svm-and-naive-bayes-with-python-421db3a72d34\n",
    "def classifyDatasets(classifier,classifierName):\n",
    "    \n",
    "    classifierTrainset = classifier.fit(X_train, y_train)\n",
    "    accTrain = classifierTrainset.score(X_train, y_train) * 100\n",
    "    print('\\t \\t Accuracy of '+ classifierName +' on training set: ' + str(accTrain))\n",
    "    \n",
    "    accTest = classifierTrainset.score(X_test, y_test) * 100\n",
    "    print('\\t \\t Accuracy of '+ classifierName +' on Test set: ' + str(accTest),'\\n')\n",
    "    \n",
    "    y_train_pred = classifierTrainset.predict(X_train)\n",
    "    cm_train=pd.DataFrame(confusion_matrix(y_train, y_train_pred),index=newsgroups_All.target_names,columns=newsgroups_All.target_names)\n",
    "    \n",
    "    y_test_pred = classifierTrainset.predict(X_test)\n",
    "    cm_test=pd.DataFrame(confusion_matrix(y_test, y_test_pred),index=newsgroups_All.target_names,columns=newsgroups_All.target_names)\n",
    "\n",
    "    return cm_train,cm_test,accTrain,accTest\n",
    "\n",
    "multinomialNBClf = MultinomialNB()\n",
    "cm_trainNB,cm_testNB,accTrainNB,accTestNB = classifyDatasets(classifier=multinomialNBClf,\n",
    "                                                         classifierName=\"Multinomial Naive Bayes Classifier \")\n",
    "\n",
    "svmClf = svm.SVC(C=1.0, kernel='linear')\n",
    "cm_trainSVM,cm_test_SVM,accTrainSVM,accTestSVM = classifyDatasets(classifier=svmClf,\n",
    "                                                         classifierName=\"Support Vector Machine Classifier \")\n"
   ]
  },
  {
   "cell_type": "markdown",
   "metadata": {},
   "source": [
    "### Confusion Matrix:-\n",
    "Confusion matrix is a table which is used to tell us about performance of the classifier on the test data for which\n",
    "the true values are known to us.\n",
    "It helps us to determine confusion between the classes. Most commonly performance are measured with the help of confusion matrix."
   ]
  },
  {
   "cell_type": "markdown",
   "metadata": {},
   "source": [
    "### Confusion Matrix for Multinomial Naive Bayes\n",
    "Majority confusion is observed between alt.atheism and talk.religion.misc.\n",
    "From the below confusion matrix of NB we can say that 54 documents whose actual value is classification is talk.religion.misc are classified as alt.atheism"
   ]
  },
  {
   "cell_type": "code",
   "execution_count": 146,
   "metadata": {},
   "outputs": [
    {
     "data": {
      "text/html": [
       "<div>\n",
       "<style scoped>\n",
       "    .dataframe tbody tr th:only-of-type {\n",
       "        vertical-align: middle;\n",
       "    }\n",
       "\n",
       "    .dataframe tbody tr th {\n",
       "        vertical-align: top;\n",
       "    }\n",
       "\n",
       "    .dataframe thead th {\n",
       "        text-align: right;\n",
       "    }\n",
       "</style>\n",
       "<table border=\"1\" class=\"dataframe\">\n",
       "  <thead>\n",
       "    <tr style=\"text-align: right;\">\n",
       "      <th></th>\n",
       "      <th>alt.atheism</th>\n",
       "      <th>comp.graphics</th>\n",
       "      <th>sci.space</th>\n",
       "      <th>talk.religion.misc</th>\n",
       "    </tr>\n",
       "  </thead>\n",
       "  <tbody>\n",
       "    <tr>\n",
       "      <th>alt.atheism</th>\n",
       "      <td>248</td>\n",
       "      <td>2</td>\n",
       "      <td>1</td>\n",
       "      <td>2</td>\n",
       "    </tr>\n",
       "    <tr>\n",
       "      <th>comp.graphics</th>\n",
       "      <td>0</td>\n",
       "      <td>292</td>\n",
       "      <td>4</td>\n",
       "      <td>0</td>\n",
       "    </tr>\n",
       "    <tr>\n",
       "      <th>sci.space</th>\n",
       "      <td>0</td>\n",
       "      <td>3</td>\n",
       "      <td>284</td>\n",
       "      <td>0</td>\n",
       "    </tr>\n",
       "    <tr>\n",
       "      <th>talk.religion.misc</th>\n",
       "      <td>54</td>\n",
       "      <td>0</td>\n",
       "      <td>9</td>\n",
       "      <td>118</td>\n",
       "    </tr>\n",
       "  </tbody>\n",
       "</table>\n",
       "</div>"
      ],
      "text/plain": [
       "                    alt.atheism  comp.graphics  sci.space  talk.religion.misc\n",
       "alt.atheism                 248              2          1                   2\n",
       "comp.graphics                 0            292          4                   0\n",
       "sci.space                     0              3        284                   0\n",
       "talk.religion.misc           54              0          9                 118"
      ]
     },
     "execution_count": 146,
     "metadata": {},
     "output_type": "execute_result"
    }
   ],
   "source": [
    "cm_testNB"
   ]
  },
  {
   "cell_type": "markdown",
   "metadata": {},
   "source": [
    "### Confusion Matrix for SVM\n",
    "As accuracy of SVM is higher, it is observed that there is very less confusion among the different classifier as compared to the Multinomial Naive Byes."
   ]
  },
  {
   "cell_type": "code",
   "execution_count": 147,
   "metadata": {},
   "outputs": [
    {
     "data": {
      "text/html": [
       "<div>\n",
       "<style scoped>\n",
       "    .dataframe tbody tr th:only-of-type {\n",
       "        vertical-align: middle;\n",
       "    }\n",
       "\n",
       "    .dataframe tbody tr th {\n",
       "        vertical-align: top;\n",
       "    }\n",
       "\n",
       "    .dataframe thead th {\n",
       "        text-align: right;\n",
       "    }\n",
       "</style>\n",
       "<table border=\"1\" class=\"dataframe\">\n",
       "  <thead>\n",
       "    <tr style=\"text-align: right;\">\n",
       "      <th></th>\n",
       "      <th>alt.atheism</th>\n",
       "      <th>comp.graphics</th>\n",
       "      <th>sci.space</th>\n",
       "      <th>talk.religion.misc</th>\n",
       "    </tr>\n",
       "  </thead>\n",
       "  <tbody>\n",
       "    <tr>\n",
       "      <th>alt.atheism</th>\n",
       "      <td>235</td>\n",
       "      <td>3</td>\n",
       "      <td>0</td>\n",
       "      <td>15</td>\n",
       "    </tr>\n",
       "    <tr>\n",
       "      <th>comp.graphics</th>\n",
       "      <td>0</td>\n",
       "      <td>295</td>\n",
       "      <td>1</td>\n",
       "      <td>0</td>\n",
       "    </tr>\n",
       "    <tr>\n",
       "      <th>sci.space</th>\n",
       "      <td>1</td>\n",
       "      <td>7</td>\n",
       "      <td>278</td>\n",
       "      <td>1</td>\n",
       "    </tr>\n",
       "    <tr>\n",
       "      <th>talk.religion.misc</th>\n",
       "      <td>13</td>\n",
       "      <td>8</td>\n",
       "      <td>1</td>\n",
       "      <td>159</td>\n",
       "    </tr>\n",
       "  </tbody>\n",
       "</table>\n",
       "</div>"
      ],
      "text/plain": [
       "                    alt.atheism  comp.graphics  sci.space  talk.religion.misc\n",
       "alt.atheism                 235              3          0                  15\n",
       "comp.graphics                 0            295          1                   0\n",
       "sci.space                     1              7        278                   1\n",
       "talk.religion.misc           13              8          1                 159"
      ]
     },
     "execution_count": 147,
     "metadata": {},
     "output_type": "execute_result"
    }
   ],
   "source": [
    "cm_test_SVM"
   ]
  },
  {
   "cell_type": "markdown",
   "metadata": {},
   "source": [
    "###  Comparison of score between Multinomial Naive Byes and SVM\n",
    "We have plotted the bar chart which shows the accuracy (score) of Multinomial Naive Bayes and Support Vector Machine (SVM).\n",
    "From the graph we can easily conclude that SVM has a higher accuracy.\n",
    "\n",
    "**justification**:- Support Vector Machine (SVM) gives better result with the full-length content whereas Multinomial Naive Bayes (MNB) is better at snippets and short documents.\n",
    "In our dataset there are large documents which makes SVM as ideal candidate in terms of accuracy. When there are more training cases SVM provides good accuracy as compared to NVB.\n",
    "The advantage of SVMs is its robustness. Moreover, SVMs do not require any hyperparameter for tuning as it can append good parameters by its own. SVMs generalize way better than MNB which removes the need for the feature selection.\n"
   ]
  },
  {
   "cell_type": "code",
   "execution_count": null,
   "metadata": {},
   "outputs": [],
   "source": []
  },
  {
   "cell_type": "code",
   "execution_count": 148,
   "metadata": {},
   "outputs": [
    {
     "data": {
      "image/png": "[encoded data removed]",
      "text/plain": [
       "<Figure size 432x288 with 1 Axes>"
      ]
     },
     "metadata": {},
     "output_type": "display_data"
    }
   ],
   "source": [
    "def compareResults(classifiers,accuracies, setType, scoreName):\n",
    "    \n",
    "    index = np.arange(len(classifiers))\n",
    "    plot.bar(index, accuracies)\n",
    "    plot.xlabel('Classifiers', fontsize=12)\n",
    "    plot.ylabel(scoreName + ' Score for '+ setType +' Set', fontsize=12)\n",
    "    plot.xticks(index, classifiers, fontsize=10)\n",
    "    plot.title(scoreName + ' Score Comparison of Classifiers on '+ setType +' Set')\n",
    "    plot.show()\n",
    "\n",
    "classifiersList = [\"Multinomial Naive Bayes\", \"Support Vector Machine\"]    \n",
    "testAccuracies = [accTestNB,accTestSVM]\n",
    "compareResults(classifiers=classifiersList, accuracies=testAccuracies, setType=\"Test\",scoreName=\"Accuracy\")"
   ]
  },
  {
   "cell_type": "markdown",
   "metadata": {},
   "source": [
    "### Change in SVM Kernels to check the effect on Accuracy and Confusion\n",
    "\n",
    "* From the above graph , it is clearly seen that the Linear Kernel is well suited for text classification. Most importantly The Linear Kernel is computationally very cheap when compared to other Kernels.\n",
    "* The linear kernel is good when there is a lot of features. That's because mapping the data to a higher dimensional space does not really improve the performance.\n",
    "* SVM kernels are data dependent which means Linear SVMs works well with the linearly separable data. When you train a SVM with a linear kernel, you only need to optimize the C regularization parameter.So for choosing the best parameters we need to use GridSearchCV which is time consuming and not good performancewise.\n",
    "* When you train a SVM with other kernels such as Polynomial Kernel, Radial Basis Function (RBF), Sigmoid Kernel , it is quite time consuming and also decrease the accuracy to ~29%. Trying those kernels also increase the confusion as shown in the confusion matrix.\n",
    "* Tuning of the Regularization parameter C and othe parameters like degree is important as High C values tend to overfit. So it is recommended to use the low C value for the better accuracy and performance.\n",
    "\n",
    "Sources : [Various Kernels Discussion :](https://www.researchgate.net/post/Is_it_necessary_to_choose_kernels_in_SVM_according_to_application)"
   ]
  },
  {
   "cell_type": "code",
   "execution_count": 149,
   "metadata": {},
   "outputs": [
    {
     "name": "stdout",
     "output_type": "stream",
     "text": [
      "Using Polynomial Kernel \n",
      "\n",
      "\t \t Accuracy of Support Vector Machine Classifier  on training set: 29.535864978902953\n",
      "\t \t Accuracy of Support Vector Machine Classifier  on Test set: 28.220255653883974 \n",
      "\n",
      "                    alt.atheism  comp.graphics  sci.space  talk.religion.misc\n",
      "alt.atheism                   0              0        253                   0\n",
      "comp.graphics                 0              0        296                   0\n",
      "sci.space                     0              0        287                   0\n",
      "talk.religion.misc            0              0        181                   0\n",
      "Using RBF Kernel \n",
      "\n",
      "\t \t Accuracy of Support Vector Machine Classifier  on training set: 29.535864978902953\n",
      "\t \t Accuracy of Support Vector Machine Classifier  on Test set: 28.220255653883974 \n",
      "\n",
      "                    alt.atheism  comp.graphics  sci.space  talk.religion.misc\n",
      "alt.atheism                   0              0        253                   0\n",
      "comp.graphics                 0              0        296                   0\n",
      "sci.space                     0              0        287                   0\n",
      "talk.religion.misc            0              0        181                   0\n",
      "Using Sigmoid Kernel \n",
      "\n",
      "\t \t Accuracy of Support Vector Machine Classifier  on training set: 29.535864978902953\n",
      "\t \t Accuracy of Support Vector Machine Classifier  on Test set: 28.220255653883974 \n",
      "\n",
      "                    alt.atheism  comp.graphics  sci.space  talk.religion.misc\n",
      "alt.atheism                   0              0        253                   0\n",
      "comp.graphics                 0              0        296                   0\n",
      "sci.space                     0              0        287                   0\n",
      "talk.religion.misc            0              0        181                   0\n"
     ]
    }
   ],
   "source": [
    "def svmKernal(kernal_name):\n",
    "    \n",
    "    SVM_clf  = svm.SVC( kernel=kernal_name,C=10, degree=3, gamma='auto')\n",
    "    cm_trainSVM,cm_test_SVM,accTrainSVM,accTestSVM = classifyDatasets(classifier=SVM_clf,\n",
    "                                                         classifierName=\"Support Vector Machine Classifier \")\n",
    "    print(cm_test_SVM)\n",
    "    return cm_test_SVM\n",
    "    \n",
    "print(\"Using Polynomial Kernel \\n\")\n",
    "cm_test_SVM_poly = svmKernal(kernal_name = 'poly')\n",
    "print(\"Using RBF Kernel \\n\")\n",
    "cm_test_SVM_string = svmKernal(kernal_name = 'rbf')\n",
    "print(\"Using Sigmoid Kernel \\n\")\n",
    "cm_test_SVM_sig = svmKernal(kernal_name = 'sigmoid')"
   ]
  },
  {
   "cell_type": "markdown",
   "metadata": {},
   "source": [
    "### Q-2 d)\n",
    "### POS Tagging in Raw Data"
   ]
  },
  {
   "cell_type": "markdown",
   "metadata": {},
   "source": [
    "#### Tokenizing Raw Data \n",
    "\n",
    "We have tokenized the entire raw dataset using word_tokenize() which will be applied to each and every sentence and tokenize it. We are displaying the some of words in list to demonstrate from entire list of tokenized words."
   ]
  },
  {
   "cell_type": "code",
   "execution_count": 150,
   "metadata": {},
   "outputs": [
    {
     "name": "stdout",
     "output_type": "stream",
     "text": [
      "['From', ':', 'healta', '@', 'saturn.wwc.edu', '(', 'Tammy', 'R', 'Healy', ')', 'Subject', ':', 'Re', ':', 'who', 'are', 'we', 'to', 'judge', ',', 'Bobby', '?', 'Lines', ':', '38', 'Organization', ':', 'Walla', 'Walla', 'College', 'Lines', ':', '38', 'In', 'article', '<', '1993Apr14.213356.22176', '@', 'ultb.isc.rit.edu', '>', 'snm6394', '@', 'ultb.isc.rit.edu', '(', 'S.N', '.', 'Mozumder', ')', 'writes', ':', '>', 'From', ':', 'snm6394', '@', 'ultb.isc.rit.edu', '(', 'S.N', '.', 'Mozumder', ')', '>', 'Subject', ':', 'Re', ':', 'who', 'are', 'we', 'to', 'judge', ',', 'Bobby', '?', '>', 'Date', ':', 'Wed', ',', '14', 'Apr', '1993', '21:33:56', 'GMT', '>', 'In', 'article', '<', 'healta.56.734556346', '@', 'saturn.wwc.edu', '>', 'healta', '@', 'saturn.wwc.edu', '(', 'TAMMY', 'R', 'HEALY', ')', 'writes', ':', '>', '>', 'Bobby', ',', '>', '>', '>', '>', 'I', 'would', 'like', 'to', 'take', 'the', 'liberty', 'to', 'quote', 'from', 'a', 'Christian', 'writer', 'named', '>', '>', 'Ellen', 'G.', 'White', '.', 'I', 'hope', 'that', 'what', 'she', 'said', 'will', 'help', 'you', 'to', 'edit', 'your', '>', '>', 'remarks', 'in', 'this', 'group', 'in', 'the', 'future', '.', '>', '>', '>', '>', \"''\", 'Do', 'not', 'set', 'yourself', 'as', 'a', 'standard', '.', 'Do', 'not', 'make', 'your', 'opinions', ',', 'your', 'views', '>', '>', 'of', 'duty', ',', 'your', 'interpretations', 'of', 'scripture', ',', 'a', 'criterion', 'for', 'others', 'and', 'in', '>', '>', 'your', 'heart', 'condemn', 'them', 'if', 'they', 'do', 'not', 'come', 'up', 'to', 'your', 'ideal', '.', \"''\", '>', '>', 'Thoughts', 'Fromthe', 'Mount', 'of', 'Blessing', 'p.', '124', '>', '>', '>', '>', 'I', 'hope', 'quoting', 'this', 'does', \"n't\", 'make', 'the', 'atheists', 'gag', ',', 'but', 'I', 'think', 'Ellen', 'White', '>', '>', 'put', 'it', 'better', 'than', 'I', 'could', '.', '>', '>', '>', '>', 'Tammy', '>', '>', 'Point', '?', '>', '>', 'Peace', ',', '>', '>', 'Bobby', 'Mozumder', '>', 'My', 'point', 'is', 'that', 'you', 'set', 'up', 'your', 'views', 'as', 'the', 'only', 'way', 'to', 'believe', '.', 'Saying', 'that', 'all', 'eveil', 'in', 'this', 'world', 'is', 'caused', 'by', 'atheism', 'is', 'ridiculous', 'and', 'counterproductive', 'to', 'dialogue', 'in', 'this', 'newsgroups', '.', 'I', 'see', 'in', 'your', 'posts', 'a', 'spirit', 'of', 'condemnation', 'of', 'the', 'atheists', 'in', 'this', 'newsgroup', 'bacause', 'they', \"don'\", 't', 'believe', 'exactly', 'as', 'you', 'do', '.', 'If', 'you', \"'re\", 'here', 'to', 'try', 'to', 'convert', 'the', 'atheists', 'here', ',', 'you', \"'re\", 'failing', 'miserably', '.', 'Who', 'wants', 'to', 'be', 'in', 'position', 'of', 'constantly', 'defending', 'themselves', 'agaist', 'insulting', 'attacks', ',', 'like', 'you', 'seem', 'to', 'like', 'to', 'do', '?', '!', 'I', \"'m\", 'sorry', 'you', \"'re\", 'so', 'blind', 'that', 'you', 'did', \"n't\", 'get', 'the', 'messgae', 'in', 'the', 'quote', ',', 'everyone', 'else', 'has', 'seemed', 'to', '.', 'Tammy']\n"
     ]
    }
   ],
   "source": [
    "def tokenizeRawData():\n",
    "\n",
    "    tokenized_word_raw = []\n",
    "    for i in newsgroups_All.data:\n",
    "        tokenized_word_raw.append(word_tokenize(i))\n",
    "    return tokenized_word_raw\n",
    "\n",
    "tokenized_word_raw = tokenizeRawData()\n",
    "print(tokenized_word_raw[0])"
   ]
  },
  {
   "cell_type": "markdown",
   "metadata": {},
   "source": [
    "#### POS tagging\n",
    "\n"
   ]
  },
  {
   "cell_type": "code",
   "execution_count": 151,
   "metadata": {},
   "outputs": [
    {
     "name": "stdout",
     "output_type": "stream",
     "text": [
      "[('From', 'IN'), (':', ':'), ('healta', 'NN'), ('@', 'NN'), ('saturn.wwc.edu', 'NN'), ('(', '('), ('Tammy', 'NNP'), ('R', 'NNP'), ('Healy', 'NNP'), (')', ')'), ('Subject', 'NN'), (':', ':'), ('Re', 'NN'), (':', ':'), ('who', 'WP'), ('are', 'VBP'), ('we', 'PRP'), ('to', 'TO'), ('judge', 'VB'), (',', ','), ('Bobby', 'NNP'), ('?', '.'), ('Lines', 'NNS'), (':', ':'), ('38', 'CD'), ('Organization', 'NN'), (':', ':'), ('Walla', 'NNP'), ('Walla', 'NNP'), ('College', 'NNP'), ('Lines', 'NNP'), (':', ':'), ('38', 'CD'), ('In', 'IN'), ('article', 'NN'), ('<', '$'), ('1993Apr14.213356.22176', 'CD'), ('@', 'NNP'), ('ultb.isc.rit.edu', 'JJ'), ('>', 'NNP'), ('snm6394', 'NN'), ('@', 'NNP'), ('ultb.isc.rit.edu', 'NN'), ('(', '('), ('S.N', 'NNP'), ('.', '.'), ('Mozumder', 'NNP'), (')', ')'), ('writes', 'VBZ'), (':', ':'), ('>', 'NN'), ('From', 'IN'), (':', ':'), ('snm6394', 'NN'), ('@', 'NN'), ('ultb.isc.rit.edu', 'NN'), ('(', '('), ('S.N', 'NNP'), ('.', '.'), ('Mozumder', 'NNP'), (')', ')'), ('>', 'NN'), ('Subject', 'JJ'), (':', ':'), ('Re', 'NN'), (':', ':'), ('who', 'WP'), ('are', 'VBP'), ('we', 'PRP'), ('to', 'TO'), ('judge', 'VB'), (',', ','), ('Bobby', 'NNP'), ('?', '.'), ('>', 'NN'), ('Date', 'NN'), (':', ':'), ('Wed', 'NNP'), (',', ','), ('14', 'CD'), ('Apr', 'NNP'), ('1993', 'CD'), ('21:33:56', 'CD'), ('GMT', 'NNP'), ('>', 'NN'), ('In', 'IN'), ('article', 'NN'), ('<', 'NNP'), ('healta.56.734556346', 'NN'), ('@', 'NNP'), ('saturn.wwc.edu', 'NN'), ('>', 'NNP'), ('healta', 'NN'), ('@', 'NNP'), ('saturn.wwc.edu', 'NN'), ('(', '('), ('TAMMY', 'NNP'), ('R', 'NNP'), ('HEALY', 'NNP'), (')', ')'), ('writes', 'VBZ'), (':', ':'), ('>', 'NN'), ('>', 'NN'), ('Bobby', 'NNP'), (',', ','), ('>', 'NNP'), ('>', 'NNP'), ('>', 'NNP'), ('>', 'NNP'), ('I', 'PRP'), ('would', 'MD'), ('like', 'VB'), ('to', 'TO'), ('take', 'VB'), ('the', 'DT'), ('liberty', 'NN'), ('to', 'TO'), ('quote', 'VB'), ('from', 'IN'), ('a', 'DT'), ('Christian', 'JJ'), ('writer', 'NN'), ('named', 'VBN'), ('>', 'NNP'), ('>', 'NNP'), ('Ellen', 'NNP'), ('G.', 'NNP'), ('White', 'NNP'), ('.', '.'), ('I', 'PRP'), ('hope', 'VBP'), ('that', 'IN'), ('what', 'WP'), ('she', 'PRP'), ('said', 'VBD'), ('will', 'MD'), ('help', 'VB'), ('you', 'PRP'), ('to', 'TO'), ('edit', 'VB'), ('your', 'PRP$'), ('>', 'NN'), ('>', 'NN'), ('remarks', 'NNS'), ('in', 'IN'), ('this', 'DT'), ('group', 'NN'), ('in', 'IN'), ('the', 'DT'), ('future', 'NN'), ('.', '.'), ('>', 'JJ'), ('>', 'JJ'), ('>', 'NN'), ('>', 'NN'), (\"''\", \"''\"), ('Do', 'NNP'), ('not', 'RB'), ('set', 'VB'), ('yourself', 'PRP'), ('as', 'IN'), ('a', 'DT'), ('standard', 'NN'), ('.', '.'), ('Do', 'VBP'), ('not', 'RB'), ('make', 'VB'), ('your', 'PRP$'), ('opinions', 'NNS'), (',', ','), ('your', 'PRP$'), ('views', 'NNS'), ('>', 'VBP'), ('>', 'CD'), ('of', 'IN'), ('duty', 'NN'), (',', ','), ('your', 'PRP$'), ('interpretations', 'NNS'), ('of', 'IN'), ('scripture', 'NN'), (',', ','), ('a', 'DT'), ('criterion', 'NN'), ('for', 'IN'), ('others', 'NNS'), ('and', 'CC'), ('in', 'IN'), ('>', 'NNP'), ('>', 'NNP'), ('your', 'PRP$'), ('heart', 'NN'), ('condemn', 'VB'), ('them', 'PRP'), ('if', 'IN'), ('they', 'PRP'), ('do', 'VBP'), ('not', 'RB'), ('come', 'VB'), ('up', 'RP'), ('to', 'TO'), ('your', 'PRP$'), ('ideal', 'NN'), ('.', '.'), (\"''\", \"''\"), ('>', 'JJ'), ('>', 'NNP'), ('Thoughts', 'NNP'), ('Fromthe', 'NNP'), ('Mount', 'NNP'), ('of', 'IN'), ('Blessing', 'NNP'), ('p.', 'NN'), ('124', 'CD'), ('>', 'NN'), ('>', 'NNP'), ('>', 'NNP'), ('>', 'NNP'), ('I', 'PRP'), ('hope', 'VBP'), ('quoting', 'VBG'), ('this', 'DT'), ('does', 'VBZ'), (\"n't\", 'RB'), ('make', 'VB'), ('the', 'DT'), ('atheists', 'NNS'), ('gag', 'VBP'), (',', ','), ('but', 'CC'), ('I', 'PRP'), ('think', 'VBP'), ('Ellen', 'NNP'), ('White', 'NNP'), ('>', 'NNP'), ('>', 'NNP'), ('put', 'VBD'), ('it', 'PRP'), ('better', 'JJR'), ('than', 'IN'), ('I', 'PRP'), ('could', 'MD'), ('.', '.'), ('>', 'VB'), ('>', 'JJ'), ('>', 'NNP'), ('>', 'NNP'), ('Tammy', 'NNP'), ('>', 'NNP'), ('>', 'NNP'), ('Point', 'NNP'), ('?', '.'), ('>', 'NNP'), ('>', 'NNP'), ('Peace', 'NNP'), (',', ','), ('>', 'NNP'), ('>', 'NNP'), ('Bobby', 'NNP'), ('Mozumder', 'NNP'), ('>', 'NNP'), ('My', 'NNP'), ('point', 'NN'), ('is', 'VBZ'), ('that', 'IN'), ('you', 'PRP'), ('set', 'VBP'), ('up', 'RP'), ('your', 'PRP$'), ('views', 'NNS'), ('as', 'IN'), ('the', 'DT'), ('only', 'JJ'), ('way', 'NN'), ('to', 'TO'), ('believe', 'VB'), ('.', '.'), ('Saying', 'VBG'), ('that', 'IN'), ('all', 'DT'), ('eveil', 'NN'), ('in', 'IN'), ('this', 'DT'), ('world', 'NN'), ('is', 'VBZ'), ('caused', 'VBN'), ('by', 'IN'), ('atheism', 'NN'), ('is', 'VBZ'), ('ridiculous', 'JJ'), ('and', 'CC'), ('counterproductive', 'JJ'), ('to', 'TO'), ('dialogue', 'VB'), ('in', 'IN'), ('this', 'DT'), ('newsgroups', 'NN'), ('.', '.'), ('I', 'PRP'), ('see', 'VBP'), ('in', 'IN'), ('your', 'PRP$'), ('posts', 'NNS'), ('a', 'DT'), ('spirit', 'NN'), ('of', 'IN'), ('condemnation', 'NN'), ('of', 'IN'), ('the', 'DT'), ('atheists', 'NNS'), ('in', 'IN'), ('this', 'DT'), ('newsgroup', 'NN'), ('bacause', 'IN'), ('they', 'PRP'), (\"don'\", 'VBP'), ('t', 'JJ'), ('believe', 'VBP'), ('exactly', 'RB'), ('as', 'IN'), ('you', 'PRP'), ('do', 'VBP'), ('.', '.'), ('If', 'IN'), ('you', 'PRP'), (\"'re\", 'VBP'), ('here', 'RB'), ('to', 'TO'), ('try', 'VB'), ('to', 'TO'), ('convert', 'VB'), ('the', 'DT'), ('atheists', 'NNS'), ('here', 'RB'), (',', ','), ('you', 'PRP'), (\"'re\", 'VBP'), ('failing', 'VBG'), ('miserably', 'RB'), ('.', '.'), ('Who', 'WP'), ('wants', 'VBZ'), ('to', 'TO'), ('be', 'VB'), ('in', 'IN'), ('position', 'NN'), ('of', 'IN'), ('constantly', 'RB'), ('defending', 'VBG'), ('themselves', 'PRP'), ('agaist', 'JJ'), ('insulting', 'VBG'), ('attacks', 'NNS'), (',', ','), ('like', 'IN'), ('you', 'PRP'), ('seem', 'VBP'), ('to', 'TO'), ('like', 'VB'), ('to', 'TO'), ('do', 'VB'), ('?', '.'), ('!', '.'), ('I', 'PRP'), (\"'m\", 'VBP'), ('sorry', 'JJ'), ('you', 'PRP'), (\"'re\", 'VBP'), ('so', 'RB'), ('blind', 'IN'), ('that', 'IN'), ('you', 'PRP'), ('did', 'VBD'), (\"n't\", 'RB'), ('get', 'VB'), ('the', 'DT'), ('messgae', 'NN'), ('in', 'IN'), ('the', 'DT'), ('quote', 'NN'), (',', ','), ('everyone', 'NN'), ('else', 'RB'), ('has', 'VBZ'), ('seemed', 'VBN'), ('to', 'TO'), ('.', '.'), ('Tammy', 'VB')]\n"
     ]
    }
   ],
   "source": [
    "def posTaggingRawData(tokenized_word_raw):\n",
    "\n",
    "    pos_tag_raw = []\n",
    "    for i in range(len(tokenized_word_raw)):\n",
    "        pos_tag_raw.append(nltk.pos_tag(tokenized_word_raw[i]))\n",
    "        \n",
    "    return pos_tag_raw\n",
    "\n",
    "pos_tag_raw = posTaggingRawData(tokenized_word_raw)\n",
    "print(pos_tag_raw[0])"
   ]
  },
  {
   "cell_type": "markdown",
   "metadata": {},
   "source": [
    "### Extract the Noun\n",
    "We have extracted all the noun using the below function from the Dataset.\n",
    "For cleaning we have performed the same process which we used in the Question 2."
   ]
  },
  {
   "cell_type": "code",
   "execution_count": 152,
   "metadata": {},
   "outputs": [
    {
     "name": "stdout",
     "output_type": "stream",
     "text": [
      "['healta', '@', 'saturn.wwc.edu', 'Tammy', 'R', 'Healy', 'Subject', 'Re', 'Bobby', 'Lines', 'Organization', 'Walla', 'Walla', 'College', 'Lines', 'article', '@', '>', 'snm6394', '@', 'ultb.isc.rit.edu', 'S.N', 'Mozumder', '>', 'snm6394', '@', 'ultb.isc.rit.edu', 'S.N', 'Mozumder', '>', 'Re', 'Bobby', '>', 'Date', 'Wed', 'Apr', 'GMT', '>', 'article', '<', 'healta.56.734556346', '@', 'saturn.wwc.edu', '>', 'healta', '@', 'saturn.wwc.edu', 'TAMMY', 'R', 'HEALY', '>', '>', 'Bobby', '>', '>', '>', '>', 'liberty', 'writer', '>', '>', 'Ellen', 'G.', 'White', '>', '>', 'remarks', 'group', 'future', '>', '>', 'Do', 'standard', 'opinions', 'views', 'duty', 'interpretations', 'scripture', 'criterion', 'others', '>', '>', 'heart', 'ideal', '>', 'Thoughts', 'Fromthe', 'Mount', 'Blessing', 'p.', '>', '>', '>', '>', 'atheists', 'Ellen', 'White', '>', '>', '>', '>', 'Tammy', '>', '>', 'Point', '>', '>', 'Peace', '>', '>', 'Bobby', 'Mozumder', '>', 'My', 'point', 'views', 'way', 'eveil', 'world', 'atheism', 'newsgroups', 'posts', 'spirit', 'condemnation', 'atheists', 'newsgroup', 'atheists', 'position', 'attacks', 'messgae', 'quote', 'everyone']\n"
     ]
    }
   ],
   "source": [
    "def extractNouns(pos_tag_raw):\n",
    "    \n",
    "    l1=[]\n",
    "    final_pos=[]\n",
    "    new_list=[]\n",
    "    for i in range(len(pos_tag_raw)):\n",
    "        l1 = pos_tag_raw[i]\n",
    "        df=pd.DataFrame(l1)\n",
    "        l2=df[0].tolist()\n",
    "        l3=df[1].tolist()\n",
    "        for j in range(len(l2)):\n",
    "            if l3[j] == 'NN' or l3[j] == 'NNS' or l3[j] == 'NNP' or l3[j] == 'NNPS' :\n",
    "                new_list.append(l2[j])\n",
    "        final_pos.append(new_list)\n",
    "        new_list=[]\n",
    "    \n",
    "    return final_pos\n",
    "\n",
    "final_pos = extractNouns(pos_tag_raw)\n",
    "print(final_pos[0])"
   ]
  },
  {
   "cell_type": "code",
   "execution_count": 153,
   "metadata": {},
   "outputs": [
    {
     "name": "stdout",
     "output_type": "stream",
     "text": [
      "['healta', '', 'saturnwwcedu', 'Tammy', 'R', 'Healy', 'Subject', 'Re', 'Bobby', 'Lines', 'Organization', 'Walla', 'Walla', 'College', 'Lines', 'article', '', '', 'snm', '', 'ultbiscritedu', 'SN', 'Mozumder', '', 'snm', '', 'ultbiscritedu', 'SN', 'Mozumder', '', 'Re', 'Bobby', '', 'Date', 'Wed', 'Apr', 'GMT', '', 'article', '', 'healta', '', 'saturnwwcedu', '', 'healta', '', 'saturnwwcedu', 'TAMMY', 'R', 'HEALY', '', '', 'Bobby', '', '', '', '', 'liberty', 'writer', '', '', 'Ellen', 'G', 'White', '', '', 'remarks', 'group', 'future', '', '', 'Do', 'standard', 'opinions', 'views', 'duty', 'interpretations', 'scripture', 'criterion', 'others', '', '', 'heart', 'ideal', '', 'Thoughts', 'Fromthe', 'Mount', 'Blessing', 'p', '', '', '', '', 'atheists', 'Ellen', 'White', '', '', '', '', 'Tammy', '', '', 'Point', '', '', 'Peace', '', '', 'Bobby', 'Mozumder', '', 'My', 'point', 'views', 'way', 'eveil', 'world', 'atheism', 'newsgroups', 'posts', 'spirit', 'condemnation', 'atheists', 'newsgroup', 'atheists', 'position', 'attacks', 'messgae', 'quote', 'everyone']\n"
     ]
    }
   ],
   "source": [
    "def removeNoncharcterPos(final_pos):\n",
    "\n",
    "    Remove_noncharacter_pos=[]\n",
    "    Remove_noncharacter_final_pos=[]\n",
    "    for i in range(len(final_pos)):\n",
    "        for j in range(len(final_pos[i])):\n",
    "            Remove_noncharacter_pos.append(re.sub(r'[^A-Za-z]', '', final_pos[i][j]))\n",
    "        Remove_noncharacter_final_pos.append(Remove_noncharacter_pos)\n",
    "        Remove_noncharacter_pos=[]\n",
    "        \n",
    "    return Remove_noncharacter_final_pos\n",
    "\n",
    "Remove_noncharacter_final_pos = removeNoncharcterPos(final_pos)    \n",
    "print(Remove_noncharacter_final_pos[0])"
   ]
  },
  {
   "cell_type": "code",
   "execution_count": 154,
   "metadata": {},
   "outputs": [
    {
     "name": "stdout",
     "output_type": "stream",
     "text": [
      "['healta', 'saturnwwcedu', 'Tammy', 'R', 'Healy', 'Subject', 'Re', 'Bobby', 'Lines', 'Organization', 'Walla', 'Walla', 'College', 'Lines', 'article', 'snm', 'ultbiscritedu', 'SN', 'Mozumder', 'snm', 'ultbiscritedu', 'SN', 'Mozumder', 'Re', 'Bobby', 'Date', 'Wed', 'Apr', 'GMT', 'article', 'healta', 'saturnwwcedu', 'healta', 'saturnwwcedu', 'TAMMY', 'R', 'HEALY', 'Bobby', 'liberty', 'writer', 'Ellen', 'G', 'White', 'remarks', 'group', 'future', 'Do', 'standard', 'opinions', 'views', 'duty', 'interpretations', 'scripture', 'criterion', 'others', 'heart', 'ideal', 'Thoughts', 'Fromthe', 'Mount', 'Blessing', 'p', 'atheists', 'Ellen', 'White', 'Tammy', 'Point', 'Peace', 'Bobby', 'Mozumder', 'My', 'point', 'views', 'way', 'eveil', 'world', 'atheism', 'newsgroups', 'posts', 'spirit', 'condemnation', 'atheists', 'newsgroup', 'atheists', 'position', 'attacks', 'messgae', 'quote', 'everyone']\n"
     ]
    }
   ],
   "source": [
    "def removeNullsPos(Remove_noncharacter_final_pos):\n",
    "    \n",
    "    Remove_null_pos=[]\n",
    "    for i in range(len(Remove_noncharacter_final_pos)):\n",
    "        Remove_null_pos.append([x for x in Remove_noncharacter_final_pos[i] if x])\n",
    "   \n",
    "    return Remove_null_pos\n",
    "\n",
    "Remove_null_pos = removeNullsPos(Remove_noncharacter_final_pos)\n",
    "print(Remove_null_pos[0])"
   ]
  },
  {
   "cell_type": "code",
   "execution_count": 155,
   "metadata": {},
   "outputs": [
    {
     "name": "stdout",
     "output_type": "stream",
     "text": [
      "['healta', 'saturnwwcedu', 'tammi', 'R', 'heali', 'subject', 'Re', 'bobbi', 'line', 'organ', 'walla', 'walla', 'colleg', 'line', 'articl', 'snm', 'ultbiscritedu', 'SN', 'mozumd', 'snm', 'ultbiscritedu', 'SN', 'mozumd', 'Re', 'bobbi', 'date', 'wed', 'apr', 'gmt', 'articl', 'healta', 'saturnwwcedu', 'healta', 'saturnwwcedu', 'tammi', 'R', 'heali', 'bobbi', 'liberti', 'writer', 'ellen', 'G', 'white', 'remark', 'group', 'futur', 'Do', 'standard', 'opinion', 'view', 'duti', 'interpret', 'scriptur', 'criterion', 'other', 'heart', 'ideal', 'thought', 'fromth', 'mount', 'bless', 'p', 'atheist', 'ellen', 'white', 'tammi', 'point', 'peac', 'bobbi', 'mozumd', 'My', 'point', 'view', 'way', 'eveil', 'world', 'atheism', 'newsgroup', 'post', 'spirit', 'condemn', 'atheist', 'newsgroup', 'atheist', 'posit', 'attack', 'messga', 'quot', 'everyon']\n"
     ]
    }
   ],
   "source": [
    "def stemmingProcessPos(Remove_null_pos):\n",
    "    \n",
    "    stemmed_words_pos=[]\n",
    "    temp_stemmed_words_pos=[]\n",
    "\n",
    "    for i in range(len(Remove_null_pos)):\n",
    "        for j in range(len(Remove_null_pos[i])):\n",
    "            temp_stemmed_words_pos.append(PorterStemmer().stem(Remove_null_pos[i][j]))\n",
    "        stemmed_words_pos.append(temp_stemmed_words_pos)\n",
    "        temp_stemmed_words_pos=[]\n",
    "        \n",
    "    return stemmed_words_pos\n",
    "\n",
    "stemmed_words_pos = stemmingProcessPos(Remove_null_pos)\n",
    "print(stemmed_words_pos[0])"
   ]
  },
  {
   "cell_type": "code",
   "execution_count": 156,
   "metadata": {},
   "outputs": [],
   "source": [
    "clean_data_pos=[]\n",
    "\n",
    "for i in range(len(stemmed_words_pos)):\n",
    "    clean_data_pos.append(' '.join(stemmed_words_pos[i]))\n",
    "    \n",
    "#print(clean_data_pos)"
   ]
  },
  {
   "cell_type": "markdown",
   "metadata": {},
   "source": [
    "###  Data Representation : Bag of Words and TF - IDF\n",
    "\n",
    "Explanation of the code and theory for Data representation techniques, Bag of Words and TF-IDF, will be the same as   explained in Answer 2(b)\n",
    "\n",
    "#### Vocabulary Comparison\n",
    "Vocabulary is seen decreased clearly from the shape attribute. Here it shows tuple (3387,25229) which  means 3387 documents and 25229 words. In previous Question that tuple was (3387,31715) which shows the 3387 documents and 31715 words. These results show that size of words is decreased after cleaning and  extracting only nouns from the documents."
   ]
  },
  {
   "cell_type": "code",
   "execution_count": 157,
   "metadata": {},
   "outputs": [
    {
     "data": {
      "text/plain": [
       "(3387, 25233)"
      ]
     },
     "execution_count": 157,
     "metadata": {},
     "output_type": "execute_result"
    }
   ],
   "source": [
    "X_train_counts = convertToBagOfWords(clean_data_pos)\n",
    "X_train_counts.shape"
   ]
  },
  {
   "cell_type": "code",
   "execution_count": 158,
   "metadata": {},
   "outputs": [
    {
     "data": {
      "text/plain": [
       "(3387, 25233)"
      ]
     },
     "execution_count": 158,
     "metadata": {},
     "output_type": "execute_result"
    }
   ],
   "source": [
    "X_train_tfidf =convertToTfIdf(X_train_counts)\n",
    "X_train_tfidf.shape"
   ]
  },
  {
   "cell_type": "markdown",
   "metadata": {},
   "source": [
    "### Text Classification in Data Represented in Bag Of Words and TF-IDF\n",
    "\n",
    "Data split and classification explanation will be the same as explained in Answer 2(c)"
   ]
  },
  {
   "cell_type": "code",
   "execution_count": 159,
   "metadata": {},
   "outputs": [],
   "source": [
    "X_train, X_test,y_train,y_test = train_test_split(X_train_tfidf,newsgroups_All.target,test_size = 0.3)"
   ]
  },
  {
   "cell_type": "code",
   "execution_count": 160,
   "metadata": {},
   "outputs": [
    {
     "name": "stdout",
     "output_type": "stream",
     "text": [
      "\t \t Accuracy of Multinomial Naive Bayes Classifier  on training set: 96.41350210970464\n",
      "\t \t Accuracy of Multinomial Naive Bayes Classifier  on Test set: 93.41199606686332 \n",
      "\n",
      "\t \t Accuracy of Support Vector Machine Classifier  on training set: 99.40928270042194\n",
      "\t \t Accuracy of Support Vector Machine Classifier  on Test set: 95.37856440511308 \n",
      "\n"
     ]
    }
   ],
   "source": [
    "multinomialNBClf = MultinomialNB()\n",
    "cm_trainNB,cm_testNB,newAccTrainNB,newAccTestNB = classifyDatasets(classifier=multinomialNBClf,\n",
    "                                                         classifierName=\"Multinomial Naive Bayes Classifier \")\n",
    "\n",
    "svmClf = svm.SVC(C=1.0, kernel='linear', degree=3, gamma='auto')\n",
    "cm_trainSVM,cm_test_SVM,newAccTrainSVM,newAccTestSVM = classifyDatasets(classifier=svmClf,\n",
    "                                                         classifierName=\"Support Vector Machine Classifier \")"
   ]
  },
  {
   "cell_type": "markdown",
   "metadata": {},
   "source": [
    "### Accuracy Comparison compared to that of answer 2(c)\n",
    "\n",
    "Accuracy remains almost the same for extracting nouns and other types words from data and extracting only nouns from data which can be easily seen from the Accuracy comparison bar graph.\n",
    "To be precise, we can say that there is slight increase in the accuracy of SVM and Multinomial Naive Bayes Classifier. \n",
    "\n",
    "### Note:- \n",
    "We have used functions to perform all the operations in this Assignment.\n",
    "This way re-usability of the code is improved.\n",
    "For ex. To create a model and compare the accuracy in the Q-2 d) we have directly called the functions which were\n",
    "previously created to create model and find the score."
   ]
  },
  {
   "cell_type": "code",
   "execution_count": 161,
   "metadata": {},
   "outputs": [
    {
     "data": {
      "image/png": "[encoded data removed]",
      "text/plain": [
       "<Figure size 432x288 with 1 Axes>"
      ]
     },
     "metadata": {},
     "output_type": "display_data"
    }
   ],
   "source": [
    "def accuracyComprison(classifiers,accuracies,accuraciesNew):\n",
    "\n",
    "    index = np.arange(len(classifiers))\n",
    "    bar_width = 0.25\n",
    "    legend = ['Old Accuracy Scores','New Accuracy Scores']\n",
    "    plot.bar(index, accuracies, bar_width,color='red',label='Old Accuracy Scores')\n",
    "    plot.bar(index + bar_width, accuraciesNew, bar_width,color='green',label='New Accuracy Scores')\n",
    "    plot.xlabel('Classifiers',fontsize=15)\n",
    "    plot.ylabel('Accuracy Scores',fontsize=15)\n",
    "    plot.title('Comparison of Test Accuracies Before and After Extracting Only Nouns',fontsize=15)\n",
    "    plot.xticks(index + bar_width, classifiers)\n",
    "    plot.legend(legend,loc=7,bbox_to_anchor=(1.45, 0.8))\n",
    "    plot.show()\n",
    "\n",
    "listOfTestAccuracies  = [accTestNB,accTestSVM]\n",
    "listTestAccNew = [newAccTestNB,newAccTestSVM]    \n",
    "listOfClassifiers = [\"Multinomial Naive Bayes Classifier\",\"Linear SVM\"]\n",
    "accuracyComprison(classifiers = listOfClassifiers,accuracies = listOfTestAccuracies, accuraciesNew = listTestAccNew)    \n"
   ]
  },
  {
   "cell_type": "markdown",
   "metadata": {},
   "source": [
    "### Reference\n",
    "\n",
    "### References\n",
    "\n",
    "1. https://stats.stackexchange.com/questions/58214/when-does-naive-bayes-perform-better-than-svm\n",
    "\n",
    "2. https://towardsdatascience.com/machine-learning-nlp-text-classification-using-scikit-learn-python-and-nltk-c52b92a7c73a\n",
    "\n",
    "3. Lab-6 https://dal.brightspace.com/d2l/le/content/97462/viewContent/1340766/View\n",
    "\n",
    "4. Lab-3 https://dal.brightspace.com/d2l/le/content/97462/viewContent/1332237/View\n",
    "\n",
    "5. https://stackoverflow.com/questions/35360081/naive-bayes-vs-svm-for-classifying-text-data\n",
    "\n",
    "6. https://stats.stackexchange.com/questions/58214/when-does-naive-bayes-perform-better-than-svm\n",
    "\n",
    "7. https://stats.stackexchange.com/questions/73944/what-are-the-limitations-of-kernel-methods-and-when-to-use-kernel-methods\n"
   ]
  }
 ],
 "metadata": {
  "kernelspec": {
   "display_name": "Python 3",
   "language": "python",
   "name": "python3"
  },
  "language_info": {
   "codemirror_mode": {
    "name": "ipython",
    "version": 3
   },
   "file_extension": ".py",
   "mimetype": "text/x-python",
   "name": "python",
   "nbconvert_exporter": "python",
   "pygments_lexer": "ipython3",
   "version": "3.6.5"
  }
 },
 "nbformat": 4,
 "nbformat_minor": 2
}
